{
 "cells": [
  {
   "cell_type": "markdown",
   "metadata": {},
   "source": [
    "# Layout and Styling of Jupyter widgets\n",
    "\n",
    "This notebook presents how to layout and style Jupyter interactive widgets to build rich and *reactive* widget-based applications."
   ]
  },
  {
   "cell_type": "markdown",
   "metadata": {},
   "source": [
    "## The `layout` attribute.\n",
    "\n",
    "Jupyter interactive widgets have a `layout` attribute exposing a number of CSS properties that impact how widgets are laid out.\n",
    "\n",
    "### Exposed CSS properties\n",
    "\n",
    "<div class=\"alert alert-info\" style=\"margin: 20px\">\n",
    "The following properties map to the values of the CSS properties of the same name (underscores being replaced with dashes), applied to the top DOM elements of the corresponding widget.\n",
    "</div>\n",
    "\n",
    "\n",
    "** Sizes **\n",
    "- `height`\n",
    "- `width`\n",
    "- `max_height`\n",
    "- `max_width`\n",
    "- `min_height`\n",
    "- `min_width`\n",
    "\n",
    "** Display **\n",
    "\n",
    "- `visibility`\n",
    "- `display`\n",
    "- `overflow`\n",
    "- `overflow_x`\n",
    "- `overflow_y`\n",
    "\n",
    "** Box model **\n",
    "- `border` \n",
    "- `margin`\n",
    "- `padding`\n",
    "\n",
    "** Positioning **\n",
    "- `top`\n",
    "- `left`\n",
    "- `bottom`\n",
    "- `right`\n",
    "\n",
    "** Flexbox **\n",
    "- `order`\n",
    "- `flex_flow`\n",
    "- `align_items`\n",
    "- `flex`\n",
    "- `align_self`\n",
    "- `align_content`\n",
    "- `justify_content`\n",
    "\n",
    "\n",
    "### Shorthand CSS properties\n",
    "\n",
    "You may have noticed that certain CSS properties such as `margin-[top/right/bottom/left]` seem to be missing. The same holds for `padding-[top/right/bottom/left]` etc.\n",
    "\n",
    "In fact, you can atomically specify `[top/right/bottom/left]` margins via the `margin` attribute alone by passing the string\n",
    "\n",
    "```\n",
    "margin: 100px 150px 100px 80px;\n",
    "```\n",
    "\n",
    "for a respectively `top`, `right`, `bottom` and `left` margins of  `100`, `150`, `100` and `80` pixels.\n",
    "\n",
    "Similarly, the `flex` attribute can hold values for `flex-grow`, `flex-shrink` and `flex-basis`. The `border` attribute is a shorthand property for `border-width`, `border-style (required)`, and `border-color`."
   ]
  },
  {
   "cell_type": "markdown",
   "metadata": {},
   "source": [
    "### Simple examples"
   ]
  },
  {
   "cell_type": "markdown",
   "metadata": {},
   "source": [
    "The following example shows how to resize a `Button` so that its views have a height of `80px` and a width of `50%` of the available space:"
   ]
  },
  {
   "cell_type": "code",
   "execution_count": 1,
   "metadata": {},
   "outputs": [
    {
     "data": {
      "application/vnd.jupyter.widget-view+json": {
       "model_id": "155205c7e7a1402e80a039c513230eb2"
      }
     },
     "metadata": {},
     "output_type": "display_data"
    }
   ],
   "source": [
    "from ipywidgets import Button, Layout\n",
    "\n",
    "b = Button(description='(50% width, 80px height) button',\n",
    "           layout=Layout(width='50%', height='80px'))\n",
    "b"
   ]
  },
  {
   "cell_type": "markdown",
   "metadata": {},
   "source": [
    "The `layout` property can be shared between multiple widgets and assigned directly."
   ]
  },
  {
   "cell_type": "code",
   "execution_count": 2,
   "metadata": {},
   "outputs": [
    {
     "data": {
      "application/vnd.jupyter.widget-view+json": {
       "model_id": "b84da85606de4079b511ae516a664962"
      }
     },
     "metadata": {},
     "output_type": "display_data"
    }
   ],
   "source": [
    "Button(description='Another button with the same layout', layout=b.layout)"
   ]
  },
  {
   "cell_type": "markdown",
   "metadata": {},
   "source": [
    "### Description"
   ]
  },
  {
   "cell_type": "markdown",
   "metadata": {},
   "source": [
    "You may have noticed that long descriptions are truncated. This is because the description length is, by default, fixed."
   ]
  },
  {
   "cell_type": "code",
   "execution_count": 3,
   "metadata": {},
   "outputs": [
    {
     "data": {
      "application/vnd.jupyter.widget-view+json": {
       "model_id": "8eb90954efa944bca42f80b32a8fa8a2"
      }
     },
     "metadata": {},
     "output_type": "display_data"
    }
   ],
   "source": [
    "from ipywidgets import IntSlider\n",
    "\n",
    "IntSlider(description='A too long description')"
   ]
  },
  {
   "cell_type": "markdown",
   "metadata": {},
   "source": [
    "You can change the length of the description to fit the description text. However, this will make the widget itself shorter. You can change both by adjusting the description width and the widget width using the widget's style."
   ]
  },
  {
   "cell_type": "code",
   "execution_count": null,
   "metadata": {},
   "outputs": [],
   "source": [
    "style = {'description_width': 'initial'}\n",
    "IntSlider(description='A too long description', style=style)"
   ]
  },
  {
   "cell_type": "markdown",
   "metadata": {},
   "source": [
    "If you need more flexibility to lay out widgets and descriptions, you can use Label widgets directly."
   ]
  },
  {
   "cell_type": "code",
   "execution_count": null,
   "metadata": {},
   "outputs": [],
   "source": [
    "from ipywidgets import HBox, Label\n",
    "\n",
    "HBox([Label('A too long description'), IntSlider()])"
   ]
  },
  {
   "cell_type": "markdown",
   "metadata": {},
   "source": [
    "### Natural sizes, and arrangements using HBox and VBox\n",
    "\n",
    "Most of the core-widgets have \n",
    "- a natural width that is a multiple of `148` pixels\n",
    "- a natural height of `32` pixels or a multiple of that number.\n",
    "- a default margin of `2` pixels\n",
    "\n",
    "which will be the ones used when it is not specified in the `layout` attribute.\n",
    "\n",
    "This allows simple layouts based on the `HBox` and `VBox` helper functions to align naturally:"
   ]
  },
  {
   "cell_type": "code",
   "execution_count": 4,
   "metadata": {},
   "outputs": [
    {
     "data": {
      "application/vnd.jupyter.widget-view+json": {
       "model_id": "7f3d113c01e94d6db2c5f35154d37943"
      }
     },
     "metadata": {},
     "output_type": "display_data"
    }
   ],
   "source": [
    "from ipywidgets import Button, HBox, VBox\n",
    "\n",
    "words = ['correct', 'horse', 'battery', 'staple']\n",
    "items = [Button(description=w) for w in words]\n",
    "left_box = VBox([items[0], items[1]])\n",
    "right_box = VBox([items[2], items[3]])\n",
    "HBox([left_box, right_box])"
   ]
  },
  {
   "cell_type": "markdown",
   "metadata": {},
   "source": [
    "### Latex"
   ]
  },
  {
   "cell_type": "markdown",
   "metadata": {},
   "source": [
    "Widgets such as sliders and text inputs have a description attribute that can render Latex Equations. The `Label` widget also renders Latex equations."
   ]
  },
  {
   "cell_type": "code",
   "execution_count": 5,
   "metadata": {
    "collapsed": true
   },
   "outputs": [],
   "source": [
    "from ipywidgets import IntSlider, Label"
   ]
  },
  {
   "cell_type": "code",
   "execution_count": 6,
   "metadata": {},
   "outputs": [
    {
     "data": {
      "application/vnd.jupyter.widget-view+json": {
       "model_id": "94357a50f8024abda4e20289b40ebd92"
      }
     },
     "metadata": {},
     "output_type": "display_data"
    }
   ],
   "source": [
    "IntSlider(description=r'\\(\\int_0^t f\\)')"
   ]
  },
  {
   "cell_type": "code",
   "execution_count": 7,
   "metadata": {},
   "outputs": [
    {
     "data": {
      "application/vnd.jupyter.widget-view+json": {
       "model_id": "bec9dbf12ddd4d32b8bceea9051a93b3"
      }
     },
     "metadata": {},
     "output_type": "display_data"
    }
   ],
   "source": [
    "Label(value=r'\\(e=mc^2\\)')"
   ]
  },
  {
   "cell_type": "markdown",
   "metadata": {},
   "source": [
    "### Number formatting\n",
    "\n",
    "Sliders have a readout field which can be formatted using Python's *[Format Specification Mini-Language](https://docs.python.org/3/library/string.html#format-specification-mini-language)*. If the space available for the readout is too narrow for the string representation of the slider value, a different styling is applied to show that not all digits are visible."
   ]
  },
  {
   "cell_type": "markdown",
   "metadata": {},
   "source": [
    "## The Flexbox layout\n",
    "\n",
    "In fact, the `HBox` and `VBox` helpers used above are functions returning instances of the `Box` widget with specific options.\n",
    "\n",
    "The `Box` widgets enables the entire CSS Flexbox spec, enabling rich reactive layouts in the Jupyter notebook. It aims at providing an efficient way to lay out, align and distribute space among items in a container.\n",
    "\n",
    "Again, the whole Flexbox spec is exposed via the `layout` attribute of the container widget (`Box`) and the contained items. One may share the same `layout` attribute among all the contained items.\n",
    "\n",
    "### Acknowledgement\n",
    "\n",
    "The following tutorial on the Flexbox layout follows the lines of the article *[A Complete Guide to Flexbox](https://css-tricks.com/snippets/css/a-guide-to-flexbox/)* by Chris Coyier.\n",
    "\n",
    "### Basics and terminology\n",
    "\n",
    "Since flexbox is a whole module and not a single property, it involves a lot of things including its whole set of properties. Some of them are meant to be set on the container (parent element, known as \"flex container\") whereas the others are meant to be set on the children (said \"flex items\").\n",
    "\n",
    "If regular layout is based on both block and inline flow directions, the flex layout is based on \"flex-flow directions\". Please have a look at this figure from the specification, explaining the main idea behind the flex layout.\n",
    "\n",
    "![Flexbox](./images/flexbox.png)\n",
    "\n",
    "Basically, items will be laid out following either the `main axis` (from `main-start` to `main-end`) or the `cross axis` (from `cross-start` to `cross-end`).\n",
    "\n",
    "- `main axis` - The main axis of a flex container is the primary axis along which flex items are laid out. Beware, it is not necessarily horizontal; it depends on the flex-direction property (see below).\n",
    "- `main-start | main-end` - The flex items are placed within the container starting from main-start and going to main-end.\n",
    "- `main size` - A flex item's width or height, whichever is in the main dimension, is the item's main size. The flex item's main size property is either the ‘width’ or ‘height’ property, whichever is in the main dimension.\n",
    "cross axis - The axis perpendicular to the main axis is called the cross axis. Its direction depends on the main axis direction.\n",
    "- `cross-start | cross-end` - Flex lines are filled with items and placed into the container starting on the cross-start side of the flex container and going toward the cross-end side.\n",
    "- `cross size` - The width or height of a flex item, whichever is in the cross dimension, is the item's cross size. The cross size property is whichever of ‘width’ or ‘height’ that is in the cross dimension.\n",
    "\n",
    "### Properties of the parent\n",
    "\n",
    "![Container](./images/flex-container.svg)\n",
    "\n",
    "- `display` (must be equal to 'flex' or 'inline-flex')\n",
    "\n",
    "  This defines a flex container (inline or block).\n",
    "- `flex-flow` **(shorthand for two properties)**\n",
    "\n",
    "   This is a shorthand `flex-direction` and `flex-wrap` properties, which together define the flex container's main and cross axes. Default is `row nowrap`.\n",
    "\n",
    "    - `flex-direction` (column-reverse | column | row | row-reverse | )\n",
    "    \n",
    "      This establishes the main-axis, thus defining the direction flex items are placed in the flex container. Flexbox is (aside from optional wrapping) a single-direction layout concept. Think of flex items as primarily laying out either in horizontal rows or vertical columns.\n",
    "      ![Direction](./images/flex-direction1.svg)\n",
    "    \n",
    "    - `flex-wrap` (nowrap | wrap | wrap-reverse)\n",
    "      \n",
    "      By default, flex items will all try to fit onto one line. You can change that and allow the items to wrap as needed with this property. Direction also plays a role here, determining the direction new lines are stacked in.\n",
    "      ![Wrap](./images/flex-wrap.svg)\n",
    "\n",
    "- `justify-content` (flex-start | flex-end | center | space-between | space-around)\n",
    "\n",
    "  This defines the alignment along the main axis. It helps distribute extra free space left over when either all the flex items on a line are inflexible, or are flexible but have reached their maximum size. It also exerts some control over the alignment of items when they overflow the line.\n",
    "  ![Justify](./images/justify-content.svg)\n",
    "\n",
    "- `align-items` (flex-start | flex-end | center | baseline | stretch)\n",
    "\n",
    "   This defines the default behaviour for how flex items are laid out along the cross axis on the current line. Think of it as the justify-content version for the cross-axis (perpendicular to the main-axis).\n",
    "   ![Items](./images/align-items.svg)\n",
    "   \n",
    "- `align-content` (flex-start | flex-end | center | baseline | stretch)\n",
    "\n",
    "   This aligns a flex container's lines within when there is extra space in the cross-axis, similar to how justify-content aligns individual items within the main-axis.\n",
    "   ![Items](./images/align-content.svg)\n",
    "\n",
    "  **Note**: this property has no effect when there is only one line of flex items.\n",
    "\n",
    "### Properties of the items\n",
    "\n",
    "![Item](./images/flex-items.svg)\n",
    "\n",
    "The flexbox-related CSS properties of the items have no impact if the parent element is not a flexbox container (i.e. has a `display` attribute equal to `flex` or `inline-flex`).\n",
    "\n",
    "\n",
    "- `order`\n",
    "\n",
    "   By default, flex items are laid out in the source order. However, the order property controls the order in which they appear in the flex container.\n",
    "   <img src=\"./images/order-2.svg\" alt=\"Order\" style=\"width: 500px;\"/>\n",
    "   \n",
    "- `flex` **(shorthand for three properties)**\n",
    "   This is the shorthand for flex-grow, flex-shrink and flex-basis combined. The second and third parameters (flex-shrink and flex-basis) are optional. Default is `0 1 auto`.\n",
    "   \n",
    "    - `flex-grow`\n",
    "    \n",
    "      This defines the ability for a flex item to grow if necessary. It accepts a unitless value that serves as a proportion. It dictates what amount of the available space inside the flex container the item should take up.\n",
    "\n",
    "      If all items have flex-grow set to 1, the remaining space in the container will be distributed equally to all children. If one of the children a value of 2, the remaining space would take up twice as much space as the others (or it will try to, at least).\n",
    "        ![Grow](./images/flex-grow.svg)\n",
    "      \n",
    "    - `flex-shrink`\n",
    "    \n",
    "      This defines the ability for a flex item to shrink if necessary.\n",
    "      \n",
    "    - `flex-basis`\n",
    "    \n",
    "      This defines the default size of an element before the remaining space is distributed. It can be a length (e.g. `20%`, `5rem`, etc.) or a keyword. The `auto` keyword means *\"look at my width or height property\"*.\n",
    "      \n",
    "- `align-self`\n",
    "\n",
    "  This allows the default alignment (or the one specified by align-items) to be overridden for individual flex items.\n",
    "\n",
    "  ![Align](./images/align-self.svg)\n",
    "\n",
    "### The VBox and HBox helpers\n",
    "\n",
    "The `VBox` and `HBox` helper classes provide simple defaults to arrange child widgets in vertical and horizontal boxes. They are roughly equivalent to:\n",
    "\n",
    "```Python\n",
    "def VBox(*pargs, **kwargs):\n",
    "    \"\"\"Displays multiple widgets vertically using the flexible box model.\"\"\"\n",
    "    box = Box(*pargs, **kwargs)\n",
    "    box.layout.display = 'flex'\n",
    "    box.layout.flex_flow = 'column'\n",
    "    box.layout.align_items = 'stretch'\n",
    "    return box\n",
    "\n",
    "def HBox(*pargs, **kwargs):\n",
    "    \"\"\"Displays multiple widgets horizontally using the flexible box model.\"\"\"\n",
    "    box = Box(*pargs, **kwargs)\n",
    "    box.layout.display = 'flex'\n",
    "    box.layout.align_items = 'stretch'\n",
    "    return box\n",
    "```\n",
    "\n",
    "\n",
    "### Examples"
   ]
  },
  {
   "cell_type": "markdown",
   "metadata": {},
   "source": [
    "**Four buttons in a VBox. Items stretch to the maximum width, in a vertical box taking `50%` of the available space.**"
   ]
  },
  {
   "cell_type": "code",
   "execution_count": 8,
   "metadata": {},
   "outputs": [
    {
     "data": {
      "application/vnd.jupyter.widget-view+json": {
       "model_id": "c5a76460fb0e457aaaab42cbacff800a"
      }
     },
     "metadata": {},
     "output_type": "display_data"
    }
   ],
   "source": [
    "from ipywidgets import Layout, Button, Box\n",
    "\n",
    "items_layout = Layout(flex='1 1 auto',\n",
    "                      width='auto')     # override the default width of the button to 'auto' to let the button grow\n",
    "\n",
    "box_layout = Layout(display='flex',\n",
    "                    flex_flow='column', \n",
    "                    align_items='stretch', \n",
    "                    border='solid',\n",
    "                    width='50%')\n",
    "\n",
    "words = ['correct', 'horse', 'battery', 'staple']\n",
    "items = [Button(description=w, layout=items_layout, button_style='danger') for w in words]\n",
    "box = Box(children=items, layout=box_layout)\n",
    "box"
   ]
  },
  {
   "cell_type": "markdown",
   "metadata": {},
   "source": [
    "**Three buttons in an HBox. Items flex proportionaly to their weight.**"
   ]
  },
  {
   "cell_type": "code",
   "execution_count": 9,
   "metadata": {},
   "outputs": [
    {
     "data": {
      "application/vnd.jupyter.widget-view+json": {
       "model_id": "c9c7937652184698938e4ccb880ec8b9"
      }
     },
     "metadata": {},
     "output_type": "display_data"
    }
   ],
   "source": [
    "from ipywidgets import Layout, Button, Box\n",
    "\n",
    "items = [\n",
    "    Button(description='weight=1'),\n",
    "    Button(description='weight=2', layout=Layout(flex='2 1 auto', width='auto')),\n",
    "    Button(description='weight=1'),\n",
    " ]\n",
    "\n",
    "box_layout = Layout(display='flex',\n",
    "                    flex_flow='row', \n",
    "                    align_items='stretch', \n",
    "                    border='solid',\n",
    "                    width='50%')\n",
    "box = Box(children=items, layout=box_layout)\n",
    "box"
   ]
  },
  {
   "cell_type": "markdown",
   "metadata": {},
   "source": [
    "**A more advanced example: a reactive form.**\n",
    "\n",
    "The form is a `VBox` of width '50%'. Each row in the VBox is an HBox, that justifies the content with space between.."
   ]
  },
  {
   "cell_type": "code",
   "execution_count": 10,
   "metadata": {},
   "outputs": [
    {
     "data": {
      "application/vnd.jupyter.widget-view+json": {
       "model_id": "4b8ec55c3cbd4e2da848027c6ca4f38b"
      }
     },
     "metadata": {},
     "output_type": "display_data"
    }
   ],
   "source": [
    "from ipywidgets import Layout, Button, Box, FloatText, Textarea, Dropdown, Label, IntSlider\n",
    "\n",
    "form_item_layout = Layout(\n",
    "    display='flex',\n",
    "    flex_flow='row',\n",
    "    justify_content='space-between'\n",
    ")\n",
    "\n",
    "form_items = [\n",
    "    Box([Label(value='Age of the captain'), IntSlider(min=40, max=60)], layout=form_item_layout),\n",
    "    Box([Label(value='Egg style'), \n",
    "         Dropdown(options=['Scrambled', 'Sunny side up', 'Over easy'])], layout=form_item_layout),\n",
    "    Box([Label(value='Ship size'), \n",
    "         FloatText()], layout=form_item_layout),\n",
    "    Box([Label(value='Information'), \n",
    "         Textarea()], layout=form_item_layout)\n",
    "]\n",
    "\n",
    "form = Box(form_items, layout=Layout(\n",
    "    display='flex',\n",
    "    flex_flow='column',\n",
    "    border='solid 2px',\n",
    "    align_items='stretch',\n",
    "    width='50%'\n",
    "))\n",
    "form"
   ]
  },
  {
   "cell_type": "markdown",
   "metadata": {},
   "source": [
    "**A more advanced example: a carousel.**"
   ]
  },
  {
   "cell_type": "code",
   "execution_count": 11,
   "metadata": {},
   "outputs": [
    {
     "data": {
      "application/vnd.jupyter.widget-view+json": {
       "model_id": "a17d5702f056479f84853662c3ea16c9"
      }
     },
     "metadata": {},
     "output_type": "display_data"
    }
   ],
   "source": [
    "from ipywidgets import Layout, Button, Box\n",
    "\n",
    "item_layout = Layout(height='100px', min_width='40px')\n",
    "items = [Button(layout=item_layout, description=str(i), button_style='warning') for i in range(40)]\n",
    "box_layout = Layout(overflow_x='scroll',\n",
    "                    border='3px solid black',\n",
    "                    width='500px',\n",
    "                    height='',\n",
    "                    flex_direction='row',\n",
    "                    display='flex')\n",
    "carousel = Box(children=items, layout=box_layout)\n",
    "VBox([Label('Scroll horizontally:'), carousel])"
   ]
  },
  {
   "cell_type": "markdown",
   "metadata": {},
   "source": [
    "## Predefined styles\n",
    "\n",
    "If you wish the styling of widgets to make use of colors and styles defined by the environment (to be consistent with e.g. a notebook theme), many widgets enable choosing in a list of pre-defined styles.\n",
    "\n",
    "For example, the `Button` widget has a `button_style` attribute that may take 5 different values:\n",
    "\n",
    " - `'primary'`\n",
    " - `'success'`\n",
    " - `'info'`\n",
    " - `'warning'`\n",
    " - `'danger'`\n",
    "\n",
    "besides the default empty string ''."
   ]
  },
  {
   "cell_type": "code",
   "execution_count": 12,
   "metadata": {},
   "outputs": [
    {
     "data": {
      "application/vnd.jupyter.widget-view+json": {
       "model_id": "ff987f357aa1488c866dbe518b4592e4"
      }
     },
     "metadata": {},
     "output_type": "display_data"
    }
   ],
   "source": [
    "from ipywidgets import Button\n",
    "\n",
    "Button(description='Danger Button', button_style='danger')"
   ]
  },
  {
   "cell_type": "markdown",
   "metadata": {},
   "source": [
    "## The `style` attribute\n",
    "\n",
    "While the `layout` attribute only exposes layout-related CSS properties for the top-level DOM element of widgets, the  \n",
    "`style` attribute is used to expose non-layout related styling attributes of widgets.\n",
    "\n",
    "However, the properties of the `style` atribute are specific to each widget type."
   ]
  },
  {
   "cell_type": "code",
   "execution_count": 13,
   "metadata": {},
   "outputs": [
    {
     "data": {
      "application/vnd.jupyter.widget-view+json": {
       "model_id": "958c5e0483694086b14d9a19a14c5aa1"
      }
     },
     "metadata": {},
     "output_type": "display_data"
    }
   ],
   "source": [
    "b1 = Button(description='Custom color')\n",
    "b1.style.button_color = 'lightgreen'\n",
    "b1"
   ]
  },
  {
   "cell_type": "markdown",
   "metadata": {},
   "source": [
    "You can get a list of the style attributes for a widget with the `keys` property."
   ]
  },
  {
   "cell_type": "code",
   "execution_count": null,
   "metadata": {},
   "outputs": [],
   "source": [
    "b1.style.keys"
   ]
  },
  {
   "cell_type": "markdown",
   "metadata": {},
   "source": [
    "Just like the `layout` attribute, widget styles can be assigned to other widgets."
   ]
  },
  {
   "cell_type": "code",
   "execution_count": 14,
   "metadata": {},
   "outputs": [
    {
     "data": {
      "application/vnd.jupyter.widget-view+json": {
       "model_id": "9e742d93435c4c05a634fb540cd800f0"
      }
     },
     "metadata": {},
     "output_type": "display_data"
    }
   ],
   "source": [
    "b2 = Button()\n",
    "b2.style = b1.style\n",
    "b2"
   ]
  },
  {
   "cell_type": "markdown",
   "metadata": {},
   "source": [
    "Widget styling attributes are specific to each widget type."
   ]
  },
  {
   "cell_type": "code",
   "execution_count": 15,
   "metadata": {},
   "outputs": [
    {
     "data": {
      "application/vnd.jupyter.widget-view+json": {
       "model_id": "e34f57ac460a405c8d57ae2484425875"
      }
     },
     "metadata": {},
     "output_type": "display_data"
    }
   ],
   "source": [
    "s1 = IntSlider(description='Blue handle')\n",
    "s1.style.handle_color = 'lightblue'\n",
    "s1"
   ]
  }
 ],
 "metadata": {
  "kernelspec": {
   "display_name": "Python 3",
   "language": "python",
   "name": "python3"
  },
  "language_info": {
   "codemirror_mode": {
    "name": "ipython",
    "version": 3
   },
   "file_extension": ".py",
   "mimetype": "text/x-python",
   "name": "python",
   "nbconvert_exporter": "python",
   "pygments_lexer": "ipython3",
   "version": "3.6.1"
  },
  "widgets": {
   "application/vnd.jupyter.widget-state+json": {
    "state": {
     "00a20341894a4799b8bc7760cda3086e": {
      "model_module": "jupyter-js-widgets",
      "model_module_version": "~2.0.30",
      "model_name": "ButtonStyleModel",
      "state": {
       "_model_module_version": "~2.0.30",
       "_view_module_version": "~2.0.30"
      }
     },
     "011a17c30bfd42e292acfde3027e04f8": {
      "model_module": "jupyter-js-widgets",
      "model_module_version": "~2.0.30",
      "model_name": "LayoutModel",
      "state": {
       "_model_module_version": "~2.0.30",
       "_view_module_version": "~2.0.30",
       "flex": "1 1 auto",
       "width": "auto"
      }
     },
     "02872797d1e54eb0b9aaeccb2d2a5bf4": {
      "model_module": "jupyter-js-widgets",
      "model_module_version": "~2.0.30",
      "model_name": "LayoutModel",
      "state": {
       "_model_module_version": "~2.0.30",
       "_view_module_version": "~2.0.30"
      }
     },
     "09ab2ae63f274ae9bc9a4d10eebd522d": {
      "model_module": "jupyter-js-widgets",
      "model_module_version": "~2.0.30",
      "model_name": "ButtonModel",
      "state": {
       "_model_module_version": "~2.0.30",
       "_view_module_version": "~2.0.30",
       "button_style": "warning",
       "description": "35",
       "layout": "IPY_MODEL_b94c079b9f024fc59124d5459ea8d767",
       "style": "IPY_MODEL_d6fcda7ae5fb46569d46b547a0fdb895"
      }
     },
     "0a43c318b791474db0daf79f772422ec": {
      "model_module": "jupyter-js-widgets",
      "model_module_version": "~2.0.30",
      "model_name": "LayoutModel",
      "state": {
       "_model_module_version": "~2.0.30",
       "_view_module_version": "~2.0.30"
      }
     },
     "0bacf5f5cdbd40e8bc3d4f7fbacc3750": {
      "model_module": "jupyter-js-widgets",
      "model_module_version": "~2.0.30",
      "model_name": "ButtonStyleModel",
      "state": {
       "_model_module_version": "~2.0.30",
       "_view_module_version": "~2.0.30"
      }
     },
     "0c3c901695864f00974b58a6ab4ba95c": {
      "model_module": "jupyter-js-widgets",
      "model_module_version": "~2.0.30",
      "model_name": "ButtonModel",
      "state": {
       "_model_module_version": "~2.0.30",
       "_view_module_version": "~2.0.30",
       "button_style": "warning",
       "description": "39",
       "layout": "IPY_MODEL_b94c079b9f024fc59124d5459ea8d767",
       "style": "IPY_MODEL_2975bd22a53e45bb8dbe9163748b51c2"
      }
     },
     "0d19bf1a78f049fd9680f0ecf48c34ff": {
      "model_module": "jupyter-js-widgets",
      "model_module_version": "~2.0.30",
      "model_name": "ButtonStyleModel",
      "state": {
       "_model_module_version": "~2.0.30",
       "_view_module_version": "~2.0.30"
      }
     },
     "0d509fb9422e4398af48d152a493e8cd": {
      "model_module": "jupyter-js-widgets",
      "model_module_version": "~2.0.30",
      "model_name": "LayoutModel",
      "state": {
       "_model_module_version": "~2.0.30",
       "_view_module_version": "~2.0.30"
      }
     },
     "0d6413a643e14e28837966df13f02a11": {
      "model_module": "jupyter-js-widgets",
      "model_module_version": "~2.0.30",
      "model_name": "ButtonModel",
      "state": {
       "_model_module_version": "~2.0.30",
       "_view_module_version": "~2.0.30",
       "button_style": "warning",
       "description": "8",
       "layout": "IPY_MODEL_b94c079b9f024fc59124d5459ea8d767",
       "style": "IPY_MODEL_c0ac8200e02c4476900bd6881a9b72b9"
      }
     },
     "100bb6a437b34d7082e931fa296c4688": {
      "model_module": "jupyter-js-widgets",
      "model_module_version": "~2.0.30",
      "model_name": "ButtonModel",
      "state": {
       "_model_module_version": "~2.0.30",
       "_view_module_version": "~2.0.30",
       "description": "correct",
       "layout": "IPY_MODEL_6f370ce02950433984d9211884e10eb6",
       "style": "IPY_MODEL_416540e035d3458ea33b5824f603ca1e"
      }
     },
     "13805dfd01bf4a46aabfaac05f6ce83f": {
      "model_module": "jupyter-js-widgets",
      "model_module_version": "~2.0.30",
      "model_name": "ButtonModel",
      "state": {
       "_model_module_version": "~2.0.30",
       "_view_module_version": "~2.0.30",
       "button_style": "warning",
       "description": "3",
       "layout": "IPY_MODEL_b94c079b9f024fc59124d5459ea8d767",
       "style": "IPY_MODEL_be39bc28db2f4fde9fb4f603e62b66bd"
      }
     },
     "155205c7e7a1402e80a039c513230eb2": {
      "model_module": "jupyter-js-widgets",
      "model_module_version": "~2.0.30",
      "model_name": "ButtonModel",
      "state": {
       "_model_module_version": "~2.0.30",
       "_view_module_version": "~2.0.30",
       "description": "(50% width, 80px height) button",
       "layout": "IPY_MODEL_8e28aa419b7c45019bc617acf3c59a51",
       "style": "IPY_MODEL_f4f60af05fae4a29b9aec6f6d536c3b2"
      }
     },
     "174e713537fc40fdb53ca625640dc4a7": {
      "model_module": "jupyter-js-widgets",
      "model_module_version": "~2.0.30",
      "model_name": "LayoutModel",
      "state": {
       "_model_module_version": "~2.0.30",
       "_view_module_version": "~2.0.30"
      }
     },
     "1bf6a5d794f54b568f5743adac15e9c3": {
      "model_module": "jupyter-js-widgets",
      "model_module_version": "~2.0.30",
      "model_name": "ButtonModel",
      "state": {
       "_model_module_version": "~2.0.30",
       "_view_module_version": "~2.0.30",
       "button_style": "warning",
       "description": "22",
       "layout": "IPY_MODEL_b94c079b9f024fc59124d5459ea8d767",
       "style": "IPY_MODEL_7b8afe21546e404fb2f973166028703e"
      }
     },
     "1d557076ffca45dd878959cb7a929745": {
      "model_module": "jupyter-js-widgets",
      "model_module_version": "~2.0.30",
      "model_name": "ButtonModel",
      "state": {
       "_model_module_version": "~2.0.30",
       "_view_module_version": "~2.0.30",
       "button_style": "warning",
       "description": "31",
       "layout": "IPY_MODEL_b94c079b9f024fc59124d5459ea8d767",
       "style": "IPY_MODEL_db4f5ed146a544f3ab3946a45c0b955e"
      }
     },
     "1e6d2835155c4cc48ad03d4275412885": {
      "model_module": "jupyter-js-widgets",
      "model_module_version": "~2.0.30",
      "model_name": "ButtonStyleModel",
      "state": {
       "_model_module_version": "~2.0.30",
       "_view_module_version": "~2.0.30"
      }
     },
     "216edcfad79143d7805f6316970a8f9e": {
      "model_module": "jupyter-js-widgets",
      "model_module_version": "~2.0.30",
      "model_name": "ButtonStyleModel",
      "state": {
       "_model_module_version": "~2.0.30",
       "_view_module_version": "~2.0.30"
      }
     },
     "260aedc11d544ab887e262a2bcb1f52c": {
      "model_module": "jupyter-js-widgets",
      "model_module_version": "~2.0.30",
      "model_name": "ButtonStyleModel",
      "state": {
       "_model_module_version": "~2.0.30",
       "_view_module_version": "~2.0.30"
      }
     },
     "274d9223da0e4770a249cbc384acef2d": {
      "model_module": "jupyter-js-widgets",
      "model_module_version": "~2.0.30",
      "model_name": "ButtonStyleModel",
      "state": {
       "_model_module_version": "~2.0.30",
       "_view_module_version": "~2.0.30"
      }
     },
     "2837fdf226b1425eaaa6fd586c3c4131": {
      "model_module": "jupyter-js-widgets",
      "model_module_version": "~2.0.30",
      "model_name": "ButtonStyleModel",
      "state": {
       "_model_module_version": "~2.0.30",
       "_view_module_version": "~2.0.30"
      }
     },
     "2975bd22a53e45bb8dbe9163748b51c2": {
      "model_module": "jupyter-js-widgets",
      "model_module_version": "~2.0.30",
      "model_name": "ButtonStyleModel",
      "state": {
       "_model_module_version": "~2.0.30",
       "_view_module_version": "~2.0.30"
      }
     },
     "2cb4cc173a5b4f52b8e1a100246db9ca": {
      "model_module": "jupyter-js-widgets",
      "model_module_version": "~2.0.30",
      "model_name": "ButtonModel",
      "state": {
       "_model_module_version": "~2.0.30",
       "_view_module_version": "~2.0.30",
       "button_style": "warning",
       "description": "28",
       "layout": "IPY_MODEL_b94c079b9f024fc59124d5459ea8d767",
       "style": "IPY_MODEL_af25a1971f014881ac7005b4ea2cc5db"
      }
     },
     "2ebf3ff12e924e9a9125231d9b400316": {
      "model_module": "jupyter-js-widgets",
      "model_module_version": "~2.0.30",
      "model_name": "ButtonStyleModel",
      "state": {
       "_model_module_version": "~2.0.30",
       "_view_module_version": "~2.0.30"
      }
     },
     "2f84aa49e73c4060bd777d5f831762d0": {
      "model_module": "jupyter-js-widgets",
      "model_module_version": "~2.0.30",
      "model_name": "VBoxModel",
      "state": {
       "_model_module_version": "~2.0.30",
       "_view_module_version": "~2.0.30",
       "children": [
        "IPY_MODEL_100bb6a437b34d7082e931fa296c4688",
        "IPY_MODEL_f7d956581d9b4362a0265a909a929d97"
       ],
       "layout": "IPY_MODEL_65a89463d8e44acf8fcdc6da7ca26c5b"
      }
     },
     "3024aec427234b10a4d40c3ab7fc3e65": {
      "model_module": "jupyter-js-widgets",
      "model_module_version": "~2.0.30",
      "model_name": "ButtonModel",
      "state": {
       "_model_module_version": "~2.0.30",
       "_view_module_version": "~2.0.30",
       "button_style": "warning",
       "description": "15",
       "layout": "IPY_MODEL_b94c079b9f024fc59124d5459ea8d767",
       "style": "IPY_MODEL_2837fdf226b1425eaaa6fd586c3c4131"
      }
     },
     "31819531edea4a199b36de62b0bfae44": {
      "model_module": "jupyter-js-widgets",
      "model_module_version": "~2.0.30",
      "model_name": "ButtonModel",
      "state": {
       "_model_module_version": "~2.0.30",
       "_view_module_version": "~2.0.30",
       "button_style": "danger",
       "description": "staple",
       "layout": "IPY_MODEL_011a17c30bfd42e292acfde3027e04f8",
       "style": "IPY_MODEL_0bacf5f5cdbd40e8bc3d4f7fbacc3750"
      }
     },
     "329f06d82734486b8d646d3d4ff23cc4": {
      "model_module": "jupyter-js-widgets",
      "model_module_version": "~2.0.30",
      "model_name": "BoxModel",
      "state": {
       "_model_module_version": "~2.0.30",
       "_view_module_version": "~2.0.30",
       "children": [
        "IPY_MODEL_ae710428f11549a9a3ec586157cfd455",
        "IPY_MODEL_658f6dd5bdb04e64b9f677576d0fe9f4"
       ],
       "layout": "IPY_MODEL_c06ebc75fd5a42b3b3604847ca0d77a1"
      }
     },
     "335ca898a3f74f9ebfa6e087441d5a13": {
      "model_module": "jupyter-js-widgets",
      "model_module_version": "~2.0.30",
      "model_name": "ButtonStyleModel",
      "state": {
       "_model_module_version": "~2.0.30",
       "_view_module_version": "~2.0.30"
      }
     },
     "3427a11a996a483ca8f77259994ad068": {
      "model_module": "jupyter-js-widgets",
      "model_module_version": "~2.0.30",
      "model_name": "ButtonStyleModel",
      "state": {
       "_model_module_version": "~2.0.30",
       "_view_module_version": "~2.0.30"
      }
     },
     "349ecf66649445fa9e8067c516de2000": {
      "model_module": "jupyter-js-widgets",
      "model_module_version": "~2.0.30",
      "model_name": "ButtonStyleModel",
      "state": {
       "_model_module_version": "~2.0.30",
       "_view_module_version": "~2.0.30"
      }
     },
     "34a9bbf9052c4862bc88674c45cdccfc": {
      "model_module": "jupyter-js-widgets",
      "model_module_version": "~2.0.30",
      "model_name": "LayoutModel",
      "state": {
       "_model_module_version": "~2.0.30",
       "_view_module_version": "~2.0.30"
      }
     },
     "371a9692c601485bb7093576b83f0204": {
      "model_module": "jupyter-js-widgets",
      "model_module_version": "~2.0.30",
      "model_name": "LabelModel",
      "state": {
       "_model_module_version": "~2.0.30",
       "_view_module_version": "~2.0.30",
       "layout": "IPY_MODEL_70f26df69c474be6b983eeec1d3a5684",
       "value": "Egg style"
      }
     },
     "37681dabf81d4e78ab6852c6ba18e9d2": {
      "model_module": "jupyter-js-widgets",
      "model_module_version": "~2.0.30",
      "model_name": "LayoutModel",
      "state": {
       "_model_module_version": "~2.0.30",
       "_view_module_version": "~2.0.30"
      }
     },
     "385bec61981e41b385a5c8c542493076": {
      "model_module": "jupyter-js-widgets",
      "model_module_version": "~2.0.30",
      "model_name": "ButtonModel",
      "state": {
       "_model_module_version": "~2.0.30",
       "_view_module_version": "~2.0.30",
       "button_style": "warning",
       "description": "18",
       "layout": "IPY_MODEL_b94c079b9f024fc59124d5459ea8d767",
       "style": "IPY_MODEL_d67225f357654533828016e4ac11ae75"
      }
     },
     "3e3db4b970c3499da6374f87ab0b5f68": {
      "model_module": "jupyter-js-widgets",
      "model_module_version": "~2.0.30",
      "model_name": "ButtonStyleModel",
      "state": {
       "_model_module_version": "~2.0.30",
       "_view_module_version": "~2.0.30"
      }
     },
     "4057d3b1cf6d4c148a8966a16a8e5d50": {
      "model_module": "jupyter-js-widgets",
      "model_module_version": "~2.0.30",
      "model_name": "LayoutModel",
      "state": {
       "_model_module_version": "~2.0.30",
       "_view_module_version": "~2.0.30"
      }
     },
     "416540e035d3458ea33b5824f603ca1e": {
      "model_module": "jupyter-js-widgets",
      "model_module_version": "~2.0.30",
      "model_name": "ButtonStyleModel",
      "state": {
       "_model_module_version": "~2.0.30",
       "_view_module_version": "~2.0.30"
      }
     },
     "43474dc9667447c9ba73a6f1d83e6c13": {
      "model_module": "jupyter-js-widgets",
      "model_module_version": "~2.0.30",
      "model_name": "ButtonStyleModel",
      "state": {
       "_model_module_version": "~2.0.30",
       "_view_module_version": "~2.0.30"
      }
     },
     "46349e276261471e8440e0ba563c7bfb": {
      "model_module": "jupyter-js-widgets",
      "model_module_version": "~2.0.30",
      "model_name": "ButtonStyleModel",
      "state": {
       "_model_module_version": "~2.0.30",
       "_view_module_version": "~2.0.30"
      }
     },
     "4798057d01804079a6d3b80f1419f2ba": {
      "model_module": "jupyter-js-widgets",
      "model_module_version": "~2.0.30",
      "model_name": "ButtonModel",
      "state": {
       "_model_module_version": "~2.0.30",
       "_view_module_version": "~2.0.30",
       "button_style": "warning",
       "description": "2",
       "layout": "IPY_MODEL_b94c079b9f024fc59124d5459ea8d767",
       "style": "IPY_MODEL_bdb3c430073c4442bd31c91a2f558765"
      }
     },
     "480afabc6d25488ebe438aed28bac552": {
      "model_module": "jupyter-js-widgets",
      "model_module_version": "~2.0.30",
      "model_name": "ButtonModel",
      "state": {
       "_model_module_version": "~2.0.30",
       "_view_module_version": "~2.0.30",
       "button_style": "warning",
       "description": "27",
       "layout": "IPY_MODEL_b94c079b9f024fc59124d5459ea8d767",
       "style": "IPY_MODEL_3e3db4b970c3499da6374f87ab0b5f68"
      }
     },
     "4b8ec55c3cbd4e2da848027c6ca4f38b": {
      "model_module": "jupyter-js-widgets",
      "model_module_version": "~2.0.30",
      "model_name": "BoxModel",
      "state": {
       "_model_module_version": "~2.0.30",
       "_view_module_version": "~2.0.30",
       "children": [
        "IPY_MODEL_c1ad5497ce2f497f8b67cff2b6c50b86",
        "IPY_MODEL_f5df80d77fea4475adbc47d73a7cb169",
        "IPY_MODEL_a57ae8eeaeca4caeb3cde0f79bc12821",
        "IPY_MODEL_329f06d82734486b8d646d3d4ff23cc4"
       ],
       "layout": "IPY_MODEL_a981bab0b52841efa5a27098bf1732dd"
      }
     },
     "51480808b6364fe2980086e3e5dbf4bc": {
      "model_module": "jupyter-js-widgets",
      "model_module_version": "~2.0.30",
      "model_name": "ButtonModel",
      "state": {
       "_model_module_version": "~2.0.30",
       "_view_module_version": "~2.0.30",
       "button_style": "warning",
       "description": "4",
       "layout": "IPY_MODEL_b94c079b9f024fc59124d5459ea8d767",
       "style": "IPY_MODEL_68ea311ff6c9431ea66b8a6cfe2a4819"
      }
     },
     "52a0b104a15c4fa6ab5a487a16c4fd18": {
      "model_module": "jupyter-js-widgets",
      "model_module_version": "~2.0.30",
      "model_name": "LayoutModel",
      "state": {
       "_model_module_version": "~2.0.30",
       "_view_module_version": "~2.0.30"
      }
     },
     "52c7928ced4f4e15a6479af710f428f0": {
      "model_module": "jupyter-js-widgets",
      "model_module_version": "~2.0.30",
      "model_name": "IntSliderModel",
      "state": {
       "_model_module_version": "~2.0.30",
       "_view_module_version": "~2.0.30",
       "layout": "IPY_MODEL_b9c0046679b048bc96bd95b789e8eb31",
       "max": 60,
       "min": 40,
       "style": "IPY_MODEL_cbe0b180ab674bb0a31e93fb69a1e3c1",
       "value": 40
      }
     },
     "553712d8bd55402999f348bfd3eff5b1": {
      "model_module": "jupyter-js-widgets",
      "model_module_version": "~2.0.30",
      "model_name": "ButtonStyleModel",
      "state": {
       "_model_module_version": "~2.0.30",
       "_view_module_version": "~2.0.30"
      }
     },
     "56673a5fdbfe451db2e7aa02de9f53ad": {
      "model_module": "jupyter-js-widgets",
      "model_module_version": "~2.0.30",
      "model_name": "ButtonModel",
      "state": {
       "_model_module_version": "~2.0.30",
       "_view_module_version": "~2.0.30",
       "button_style": "warning",
       "description": "25",
       "layout": "IPY_MODEL_b94c079b9f024fc59124d5459ea8d767",
       "style": "IPY_MODEL_00a20341894a4799b8bc7760cda3086e"
      }
     },
     "588958ecf44e4874851e90e34c9befb9": {
      "model_module": "jupyter-js-widgets",
      "model_module_version": "~2.0.30",
      "model_name": "ButtonStyleModel",
      "state": {
       "_model_module_version": "~2.0.30",
       "_view_module_version": "~2.0.30"
      }
     },
     "5947e6878dd14e09862955b0ed5e8680": {
      "model_module": "jupyter-js-widgets",
      "model_module_version": "~2.0.30",
      "model_name": "LayoutModel",
      "state": {
       "_model_module_version": "~2.0.30",
       "_view_module_version": "~2.0.30",
       "flex": "1 1 auto",
       "width": "auto"
      }
     },
     "5a986e7a04404d96a1a615ab0d802e53": {
      "model_module": "jupyter-js-widgets",
      "model_module_version": "~2.0.30",
      "model_name": "LabelModel",
      "state": {
       "_model_module_version": "~2.0.30",
       "_view_module_version": "~2.0.30",
       "layout": "IPY_MODEL_e12a1ce973ea4d41987e3d623d140716",
       "value": "Ship size"
      }
     },
     "5d7afbe5d8f2431fa4e1335b57091ea0": {
      "model_module": "jupyter-js-widgets",
      "model_module_version": "~2.0.30",
      "model_name": "LayoutModel",
      "state": {
       "_model_module_version": "~2.0.30",
       "_view_module_version": "~2.0.30"
      }
     },
     "5f1e33be968a4e10a1c96742e57d9e71": {
      "model_module": "jupyter-js-widgets",
      "model_module_version": "~2.0.30",
      "model_name": "ButtonModel",
      "state": {
       "_model_module_version": "~2.0.30",
       "_view_module_version": "~2.0.30",
       "button_style": "warning",
       "description": "38",
       "layout": "IPY_MODEL_b94c079b9f024fc59124d5459ea8d767",
       "style": "IPY_MODEL_9115394b761d48459a018f049f07c97d"
      }
     },
     "61b93c8323ab46aabda61effbd7ddf89": {
      "model_module": "jupyter-js-widgets",
      "model_module_version": "~2.0.30",
      "model_name": "ButtonModel",
      "state": {
       "_model_module_version": "~2.0.30",
       "_view_module_version": "~2.0.30",
       "button_style": "warning",
       "description": "6",
       "layout": "IPY_MODEL_b94c079b9f024fc59124d5459ea8d767",
       "style": "IPY_MODEL_e722401918a64149914f0f513e002150"
      }
     },
     "634beb3c2da345c48152aabd41399905": {
      "model_module": "jupyter-js-widgets",
      "model_module_version": "~2.0.30",
      "model_name": "LayoutModel",
      "state": {
       "_model_module_version": "~2.0.30",
       "_view_module_version": "~2.0.30"
      }
     },
     "658f6dd5bdb04e64b9f677576d0fe9f4": {
      "model_module": "jupyter-js-widgets",
      "model_module_version": "~2.0.30",
      "model_name": "TextareaModel",
      "state": {
       "_model_module_version": "~2.0.30",
       "_view_module_version": "~2.0.30",
       "layout": "IPY_MODEL_34a9bbf9052c4862bc88674c45cdccfc"
      }
     },
     "65a89463d8e44acf8fcdc6da7ca26c5b": {
      "model_module": "jupyter-js-widgets",
      "model_module_version": "~2.0.30",
      "model_name": "LayoutModel",
      "state": {
       "_model_module_version": "~2.0.30",
       "_view_module_version": "~2.0.30"
      }
     },
     "68c1525b74564d2d985444ecd3dcf2da": {
      "model_module": "jupyter-js-widgets",
      "model_module_version": "~2.0.30",
      "model_name": "ButtonModel",
      "state": {
       "_model_module_version": "~2.0.30",
       "_view_module_version": "~2.0.30",
       "button_style": "danger",
       "description": "correct",
       "layout": "IPY_MODEL_011a17c30bfd42e292acfde3027e04f8",
       "style": "IPY_MODEL_0d19bf1a78f049fd9680f0ecf48c34ff"
      }
     },
     "68ea311ff6c9431ea66b8a6cfe2a4819": {
      "model_module": "jupyter-js-widgets",
      "model_module_version": "~2.0.30",
      "model_name": "ButtonStyleModel",
      "state": {
       "_model_module_version": "~2.0.30",
       "_view_module_version": "~2.0.30"
      }
     },
     "69278e8d87a34d63885d584f7ba4764f": {
      "model_module": "jupyter-js-widgets",
      "model_module_version": "~2.0.30",
      "model_name": "BoxModel",
      "state": {
       "_model_module_version": "~2.0.30",
       "_view_module_version": "~2.0.30",
       "children": [
        "IPY_MODEL_89accbb2f4bf43b5b67f4989cd6babfa",
        "IPY_MODEL_efe7912e36174ee48317ddd90e7ab774",
        "IPY_MODEL_4798057d01804079a6d3b80f1419f2ba",
        "IPY_MODEL_13805dfd01bf4a46aabfaac05f6ce83f",
        "IPY_MODEL_51480808b6364fe2980086e3e5dbf4bc",
        "IPY_MODEL_69ddb4a7718049629e596711a377eb0c",
        "IPY_MODEL_61b93c8323ab46aabda61effbd7ddf89",
        "IPY_MODEL_99ec15afd4874b029b7db64320e115fd",
        "IPY_MODEL_0d6413a643e14e28837966df13f02a11",
        "IPY_MODEL_b8e5698115d142e9b644a952863bb5df",
        "IPY_MODEL_af1a262427a84749b37e5848aaf5e071",
        "IPY_MODEL_6be4ed3174d6451b86ba6a3ebd128a4f",
        "IPY_MODEL_c09109873cd24017b4cbe7a6b2885c0a",
        "IPY_MODEL_763e6a0f3dfa4e968285f34b9bd35c01",
        "IPY_MODEL_e7b582b8c4424e43be09f425a5010a6b",
        "IPY_MODEL_3024aec427234b10a4d40c3ab7fc3e65",
        "IPY_MODEL_a24ea3d76ab3494fbe267473277e1351",
        "IPY_MODEL_7449f17f5a9d4cf5b00aac7dca814aaa",
        "IPY_MODEL_385bec61981e41b385a5c8c542493076",
        "IPY_MODEL_fe96ca0a2a2147cfaa5d97f726b3182e",
        "IPY_MODEL_b578d26bd50747de94344f11702af3f6",
        "IPY_MODEL_a91f62c97e524dce9269222d42e3ae84",
        "IPY_MODEL_1bf6a5d794f54b568f5743adac15e9c3",
        "IPY_MODEL_a9d02c29e2304990b21ae8119839233f",
        "IPY_MODEL_b009e18cee8b43d6b0b8cb9d2f8d43a2",
        "IPY_MODEL_56673a5fdbfe451db2e7aa02de9f53ad",
        "IPY_MODEL_f7c4c9785f8b418191d7d215a7fbce6f",
        "IPY_MODEL_480afabc6d25488ebe438aed28bac552",
        "IPY_MODEL_2cb4cc173a5b4f52b8e1a100246db9ca",
        "IPY_MODEL_ef14fe0579e24d8f961ea1216b4184a6",
        "IPY_MODEL_be2205669f2348d3ad138d2f98782a17",
        "IPY_MODEL_1d557076ffca45dd878959cb7a929745",
        "IPY_MODEL_b94952f5071a4c67aa6618667532a34a",
        "IPY_MODEL_6ce1d44153554795a00be69e1ab45901",
        "IPY_MODEL_cc8d8176c18a4028ad8a79e679a76d9d",
        "IPY_MODEL_09ab2ae63f274ae9bc9a4d10eebd522d",
        "IPY_MODEL_ca9f0907e28e42bba03e24404002776d",
        "IPY_MODEL_a7a2e9ca340444b0b3bad1442b05b0b5",
        "IPY_MODEL_5f1e33be968a4e10a1c96742e57d9e71",
        "IPY_MODEL_0c3c901695864f00974b58a6ab4ba95c"
       ],
       "layout": "IPY_MODEL_92088d2a02694fbbb89feea0eccb6491"
      }
     },
     "69ddb4a7718049629e596711a377eb0c": {
      "model_module": "jupyter-js-widgets",
      "model_module_version": "~2.0.30",
      "model_name": "ButtonModel",
      "state": {
       "_model_module_version": "~2.0.30",
       "_view_module_version": "~2.0.30",
       "button_style": "warning",
       "description": "5",
       "layout": "IPY_MODEL_b94c079b9f024fc59124d5459ea8d767",
       "style": "IPY_MODEL_9a99d566b0cb47d0a4ff2ebfd2f83d3c"
      }
     },
     "6a42280c4f0145518a0df3b3e63fb0df": {
      "model_module": "jupyter-js-widgets",
      "model_module_version": "~2.0.30",
      "model_name": "LayoutModel",
      "state": {
       "_model_module_version": "~2.0.30",
       "_view_module_version": "~2.0.30"
      }
     },
     "6bada2e82f124f38902742760041c4c5": {
      "model_module": "jupyter-js-widgets",
      "model_module_version": "~2.0.30",
      "model_name": "LayoutModel",
      "state": {
       "_model_module_version": "~2.0.30",
       "_view_module_version": "~2.0.30",
       "align_items": "stretch",
       "border": "solid",
       "display": "flex",
       "flex_flow": "column",
       "width": "50%"
      }
     },
     "6be4ed3174d6451b86ba6a3ebd128a4f": {
      "model_module": "jupyter-js-widgets",
      "model_module_version": "~2.0.30",
      "model_name": "ButtonModel",
      "state": {
       "_model_module_version": "~2.0.30",
       "_view_module_version": "~2.0.30",
       "button_style": "warning",
       "description": "11",
       "layout": "IPY_MODEL_b94c079b9f024fc59124d5459ea8d767",
       "style": "IPY_MODEL_e1017e0b8feb46b28a06f90528a04d86"
      }
     },
     "6ce1d44153554795a00be69e1ab45901": {
      "model_module": "jupyter-js-widgets",
      "model_module_version": "~2.0.30",
      "model_name": "ButtonModel",
      "state": {
       "_model_module_version": "~2.0.30",
       "_view_module_version": "~2.0.30",
       "button_style": "warning",
       "description": "33",
       "layout": "IPY_MODEL_b94c079b9f024fc59124d5459ea8d767",
       "style": "IPY_MODEL_c91ac3ac68ae48719df435ea90b217ae"
      }
     },
     "6ce8302b22a24a1083eeb4009b790485": {
      "model_module": "jupyter-js-widgets",
      "model_module_version": "~2.0.30",
      "model_name": "LabelModel",
      "state": {
       "_model_module_version": "~2.0.30",
       "_view_module_version": "~2.0.30",
       "layout": "IPY_MODEL_37681dabf81d4e78ab6852c6ba18e9d2",
       "value": "Age of the captain"
      }
     },
     "6e61b9725b774067a3e1f67c2f8cba62": {
      "model_module": "jupyter-js-widgets",
      "model_module_version": "~2.0.30",
      "model_name": "ButtonStyleModel",
      "state": {
       "_model_module_version": "~2.0.30",
       "_view_module_version": "~2.0.30"
      }
     },
     "6f2d4c8bfc3e4ae1956f515c79f47ff1": {
      "model_module": "jupyter-js-widgets",
      "model_module_version": "~2.0.30",
      "model_name": "ButtonStyleModel",
      "state": {
       "_model_module_version": "~2.0.30",
       "_view_module_version": "~2.0.30"
      }
     },
     "6f370ce02950433984d9211884e10eb6": {
      "model_module": "jupyter-js-widgets",
      "model_module_version": "~2.0.30",
      "model_name": "LayoutModel",
      "state": {
       "_model_module_version": "~2.0.30",
       "_view_module_version": "~2.0.30"
      }
     },
     "70f26df69c474be6b983eeec1d3a5684": {
      "model_module": "jupyter-js-widgets",
      "model_module_version": "~2.0.30",
      "model_name": "LayoutModel",
      "state": {
       "_model_module_version": "~2.0.30",
       "_view_module_version": "~2.0.30"
      }
     },
     "718e8ab36636479790c55c0d7a2e18ad": {
      "model_module": "jupyter-js-widgets",
      "model_module_version": "~2.0.30",
      "model_name": "ButtonModel",
      "state": {
       "_model_module_version": "~2.0.30",
       "_view_module_version": "~2.0.30",
       "button_style": "danger",
       "description": "battery",
       "layout": "IPY_MODEL_011a17c30bfd42e292acfde3027e04f8",
       "style": "IPY_MODEL_335ca898a3f74f9ebfa6e087441d5a13"
      }
     },
     "7449f17f5a9d4cf5b00aac7dca814aaa": {
      "model_module": "jupyter-js-widgets",
      "model_module_version": "~2.0.30",
      "model_name": "ButtonModel",
      "state": {
       "_model_module_version": "~2.0.30",
       "_view_module_version": "~2.0.30",
       "button_style": "warning",
       "description": "17",
       "layout": "IPY_MODEL_b94c079b9f024fc59124d5459ea8d767",
       "style": "IPY_MODEL_43474dc9667447c9ba73a6f1d83e6c13"
      }
     },
     "7546c68ec32e475a99a3f5b18251cf7a": {
      "model_module": "jupyter-js-widgets",
      "model_module_version": "~2.0.30",
      "model_name": "DropdownModel",
      "state": {
       "_model_module_version": "~2.0.30",
       "_options_labels": [
        "Scrambled",
        "Sunny side up",
        "Over easy"
       ],
       "_view_module_version": "~2.0.30",
       "layout": "IPY_MODEL_76505caa88184d02b22855770f5e8513",
       "value": "Scrambled"
      }
     },
     "763e6a0f3dfa4e968285f34b9bd35c01": {
      "model_module": "jupyter-js-widgets",
      "model_module_version": "~2.0.30",
      "model_name": "ButtonModel",
      "state": {
       "_model_module_version": "~2.0.30",
       "_view_module_version": "~2.0.30",
       "button_style": "warning",
       "description": "13",
       "layout": "IPY_MODEL_b94c079b9f024fc59124d5459ea8d767",
       "style": "IPY_MODEL_588958ecf44e4874851e90e34c9befb9"
      }
     },
     "76505caa88184d02b22855770f5e8513": {
      "model_module": "jupyter-js-widgets",
      "model_module_version": "~2.0.30",
      "model_name": "LayoutModel",
      "state": {
       "_model_module_version": "~2.0.30",
       "_view_module_version": "~2.0.30"
      }
     },
     "7927db9a33dd4f09b7996b74ec799b2e": {
      "model_module": "jupyter-js-widgets",
      "model_module_version": "~2.0.30",
      "model_name": "ButtonStyleModel",
      "state": {
       "_model_module_version": "~2.0.30",
       "_view_module_version": "~2.0.30"
      }
     },
     "7b8afe21546e404fb2f973166028703e": {
      "model_module": "jupyter-js-widgets",
      "model_module_version": "~2.0.30",
      "model_name": "ButtonStyleModel",
      "state": {
       "_model_module_version": "~2.0.30",
       "_view_module_version": "~2.0.30"
      }
     },
     "7f1d088fdcd4401ea0a36d70c1e4ebd5": {
      "model_module": "jupyter-js-widgets",
      "model_module_version": "~2.0.30",
      "model_name": "ButtonStyleModel",
      "state": {
       "_model_module_version": "~2.0.30",
       "_view_module_version": "~2.0.30"
      }
     },
     "7f3d113c01e94d6db2c5f35154d37943": {
      "model_module": "jupyter-js-widgets",
      "model_module_version": "~2.0.30",
      "model_name": "HBoxModel",
      "state": {
       "_model_module_version": "~2.0.30",
       "_view_module_version": "~2.0.30",
       "children": [
        "IPY_MODEL_2f84aa49e73c4060bd777d5f831762d0",
        "IPY_MODEL_97fc6dd83f1243d3b3a71b89677ee743"
       ],
       "layout": "IPY_MODEL_f72cb07835304ed9bb048a000f267c11"
      }
     },
     "83e90b18e85c41d58ed098d794faca67": {
      "model_module": "jupyter-js-widgets",
      "model_module_version": "~2.0.30",
      "model_name": "ButtonStyleModel",
      "state": {
       "_model_module_version": "~2.0.30",
       "_view_module_version": "~2.0.30"
      }
     },
     "889fbcf1005e4cdd9d4ec10f2366ab46": {
      "model_module": "jupyter-js-widgets",
      "model_module_version": "~2.0.30",
      "model_name": "ButtonStyleModel",
      "state": {
       "_model_module_version": "~2.0.30",
       "_view_module_version": "~2.0.30"
      }
     },
     "89accbb2f4bf43b5b67f4989cd6babfa": {
      "model_module": "jupyter-js-widgets",
      "model_module_version": "~2.0.30",
      "model_name": "ButtonModel",
      "state": {
       "_model_module_version": "~2.0.30",
       "_view_module_version": "~2.0.30",
       "button_style": "warning",
       "description": "0",
       "layout": "IPY_MODEL_b94c079b9f024fc59124d5459ea8d767",
       "style": "IPY_MODEL_216edcfad79143d7805f6316970a8f9e"
      }
     },
     "89cbee5f7f9e4447be41bd5db70a3442": {
      "model_module": "jupyter-js-widgets",
      "model_module_version": "~2.0.30",
      "model_name": "LayoutModel",
      "state": {
       "_model_module_version": "~2.0.30",
       "_view_module_version": "~2.0.30",
       "align_items": "stretch",
       "border": "solid",
       "display": "flex",
       "flex_flow": "row",
       "width": "50%"
      }
     },
     "8e28aa419b7c45019bc617acf3c59a51": {
      "model_module": "jupyter-js-widgets",
      "model_module_version": "~2.0.30",
      "model_name": "LayoutModel",
      "state": {
       "_model_module_version": "~2.0.30",
       "_view_module_version": "~2.0.30",
       "height": "80px",
       "width": "50%"
      }
     },
     "8eb90954efa944bca42f80b32a8fa8a2": {
      "model_module": "jupyter-js-widgets",
      "model_module_version": "~2.0.30",
      "model_name": "HBoxModel",
      "state": {
       "_model_module_version": "~2.0.30",
       "_view_module_version": "~2.0.30",
       "children": [
        "IPY_MODEL_fd5fef47fe574a7aad70da56f78a960e",
        "IPY_MODEL_de1093091c8a4668a8cfbd307f2f764f"
       ],
       "layout": "IPY_MODEL_0a43c318b791474db0daf79f772422ec"
      }
     },
     "9033366c7a574534819d701c12b68800": {
      "model_module": "jupyter-js-widgets",
      "model_module_version": "~2.0.30",
      "model_name": "SliderStyleModel",
      "state": {
       "_model_module_version": "~2.0.30",
       "_view_module_version": "~2.0.30",
       "handle_color": "lightblue"
      }
     },
     "9115394b761d48459a018f049f07c97d": {
      "model_module": "jupyter-js-widgets",
      "model_module_version": "~2.0.30",
      "model_name": "ButtonStyleModel",
      "state": {
       "_model_module_version": "~2.0.30",
       "_view_module_version": "~2.0.30"
      }
     },
     "92088d2a02694fbbb89feea0eccb6491": {
      "model_module": "jupyter-js-widgets",
      "model_module_version": "~2.0.30",
      "model_name": "LayoutModel",
      "state": {
       "_model_module_version": "~2.0.30",
       "_view_module_version": "~2.0.30",
       "border": "3px solid black",
       "display": "flex",
       "height": "",
       "overflow_x": "scroll",
       "width": "500px"
      }
     },
     "93c78704586d41a7a97fad0f7be81bea": {
      "model_module": "jupyter-js-widgets",
      "model_module_version": "~2.0.30",
      "model_name": "LayoutModel",
      "state": {
       "_model_module_version": "~2.0.30",
       "_view_module_version": "~2.0.30"
      }
     },
     "93d4bc34ff294824a7e80b04467e6b9a": {
      "model_module": "jupyter-js-widgets",
      "model_module_version": "~2.0.30",
      "model_name": "SliderStyleModel",
      "state": {
       "_model_module_version": "~2.0.30",
       "_view_module_version": "~2.0.30"
      }
     },
     "94357a50f8024abda4e20289b40ebd92": {
      "model_module": "jupyter-js-widgets",
      "model_module_version": "~2.0.30",
      "model_name": "IntSliderModel",
      "state": {
       "_model_module_version": "~2.0.30",
       "_view_module_version": "~2.0.30",
       "description": "\\\\(\\int_0^t f\\\\)",
       "layout": "IPY_MODEL_b750eb7673d94893a7b7d1ed5f7cad71",
       "style": "IPY_MODEL_93d4bc34ff294824a7e80b04467e6b9a"
      }
     },
     "958c5e0483694086b14d9a19a14c5aa1": {
      "model_module": "jupyter-js-widgets",
      "model_module_version": "~2.0.30",
      "model_name": "ButtonModel",
      "state": {
       "_model_module_version": "~2.0.30",
       "_view_module_version": "~2.0.30",
       "description": "Custom color",
       "layout": "IPY_MODEL_ac1daeea507744ce8989754dfa1c98c8",
       "style": "IPY_MODEL_fc2ac2f34cdb41cdb1ef152f4e30ebea"
      }
     },
     "95bac6ee683e4da89ccdb53e8079b1fd": {
      "model_module": "jupyter-js-widgets",
      "model_module_version": "~2.0.30",
      "model_name": "ButtonStyleModel",
      "state": {
       "_model_module_version": "~2.0.30",
       "_view_module_version": "~2.0.30"
      }
     },
     "96c560f275894cd48a33c1132f41d77d": {
      "model_module": "jupyter-js-widgets",
      "model_module_version": "~2.0.30",
      "model_name": "LayoutModel",
      "state": {
       "_model_module_version": "~2.0.30",
       "_view_module_version": "~2.0.30"
      }
     },
     "97fc6dd83f1243d3b3a71b89677ee743": {
      "model_module": "jupyter-js-widgets",
      "model_module_version": "~2.0.30",
      "model_name": "VBoxModel",
      "state": {
       "_model_module_version": "~2.0.30",
       "_view_module_version": "~2.0.30",
       "children": [
        "IPY_MODEL_be2d1a8500c34bd38b0ba0a4ae2d90c7",
        "IPY_MODEL_b5bf4d355f8548d3b9d89ed6577082e2"
       ],
       "layout": "IPY_MODEL_02872797d1e54eb0b9aaeccb2d2a5bf4"
      }
     },
     "9880b47576ec4889a0097b45a44ef500": {
      "model_module": "jupyter-js-widgets",
      "model_module_version": "~2.0.30",
      "model_name": "ButtonStyleModel",
      "state": {
       "_model_module_version": "~2.0.30",
       "_view_module_version": "~2.0.30"
      }
     },
     "99ec15afd4874b029b7db64320e115fd": {
      "model_module": "jupyter-js-widgets",
      "model_module_version": "~2.0.30",
      "model_name": "ButtonModel",
      "state": {
       "_model_module_version": "~2.0.30",
       "_view_module_version": "~2.0.30",
       "button_style": "warning",
       "description": "7",
       "layout": "IPY_MODEL_b94c079b9f024fc59124d5459ea8d767",
       "style": "IPY_MODEL_83e90b18e85c41d58ed098d794faca67"
      }
     },
     "9a05db9a98984909b2cbc7f8bb131ab2": {
      "model_module": "jupyter-js-widgets",
      "model_module_version": "~2.0.30",
      "model_name": "ButtonStyleModel",
      "state": {
       "_model_module_version": "~2.0.30",
       "_view_module_version": "~2.0.30"
      }
     },
     "9a99d566b0cb47d0a4ff2ebfd2f83d3c": {
      "model_module": "jupyter-js-widgets",
      "model_module_version": "~2.0.30",
      "model_name": "ButtonStyleModel",
      "state": {
       "_model_module_version": "~2.0.30",
       "_view_module_version": "~2.0.30"
      }
     },
     "9e742d93435c4c05a634fb540cd800f0": {
      "model_module": "jupyter-js-widgets",
      "model_module_version": "~2.0.30",
      "model_name": "ButtonModel",
      "state": {
       "_model_module_version": "~2.0.30",
       "_view_module_version": "~2.0.30",
       "layout": "IPY_MODEL_d0959dd7c6c241c9807cac204273d95c",
       "style": "IPY_MODEL_fc2ac2f34cdb41cdb1ef152f4e30ebea"
      }
     },
     "a02b452c926848dda9762aa17f435294": {
      "model_module": "jupyter-js-widgets",
      "model_module_version": "~2.0.30",
      "model_name": "ButtonStyleModel",
      "state": {
       "_model_module_version": "~2.0.30",
       "_view_module_version": "~2.0.30"
      }
     },
     "a13f3b204aac4df09727a63bb37cbdae": {
      "model_module": "jupyter-js-widgets",
      "model_module_version": "~2.0.30",
      "model_name": "ButtonStyleModel",
      "state": {
       "_model_module_version": "~2.0.30",
       "_view_module_version": "~2.0.30"
      }
     },
     "a17d5702f056479f84853662c3ea16c9": {
      "model_module": "jupyter-js-widgets",
      "model_module_version": "~2.0.30",
      "model_name": "VBoxModel",
      "state": {
       "_model_module_version": "~2.0.30",
       "_view_module_version": "~2.0.30",
       "children": [
        "IPY_MODEL_ef76058ff27b4e02b5e3996eb150d894",
        "IPY_MODEL_69278e8d87a34d63885d584f7ba4764f"
       ],
       "layout": "IPY_MODEL_52a0b104a15c4fa6ab5a487a16c4fd18"
      }
     },
     "a24ea3d76ab3494fbe267473277e1351": {
      "model_module": "jupyter-js-widgets",
      "model_module_version": "~2.0.30",
      "model_name": "ButtonModel",
      "state": {
       "_model_module_version": "~2.0.30",
       "_view_module_version": "~2.0.30",
       "button_style": "warning",
       "description": "16",
       "layout": "IPY_MODEL_b94c079b9f024fc59124d5459ea8d767",
       "style": "IPY_MODEL_9a05db9a98984909b2cbc7f8bb131ab2"
      }
     },
     "a4a665b14f7e46c18c3a25e515e9c77f": {
      "model_module": "jupyter-js-widgets",
      "model_module_version": "~2.0.30",
      "model_name": "ButtonStyleModel",
      "state": {
       "_model_module_version": "~2.0.30",
       "_view_module_version": "~2.0.30"
      }
     },
     "a57ae8eeaeca4caeb3cde0f79bc12821": {
      "model_module": "jupyter-js-widgets",
      "model_module_version": "~2.0.30",
      "model_name": "BoxModel",
      "state": {
       "_model_module_version": "~2.0.30",
       "_view_module_version": "~2.0.30",
       "children": [
        "IPY_MODEL_5a986e7a04404d96a1a615ab0d802e53",
        "IPY_MODEL_a9b5ddb9bda9478f91ad3316f44d847a"
       ],
       "layout": "IPY_MODEL_c06ebc75fd5a42b3b3604847ca0d77a1"
      }
     },
     "a7a2e9ca340444b0b3bad1442b05b0b5": {
      "model_module": "jupyter-js-widgets",
      "model_module_version": "~2.0.30",
      "model_name": "ButtonModel",
      "state": {
       "_model_module_version": "~2.0.30",
       "_view_module_version": "~2.0.30",
       "button_style": "warning",
       "description": "37",
       "layout": "IPY_MODEL_b94c079b9f024fc59124d5459ea8d767",
       "style": "IPY_MODEL_ed1bbde2dda44174a2881b1b0a41f53e"
      }
     },
     "a7a84cead27e40dcb72409468f0f0480": {
      "model_module": "jupyter-js-widgets",
      "model_module_version": "~2.0.30",
      "model_name": "ButtonModel",
      "state": {
       "_model_module_version": "~2.0.30",
       "_view_module_version": "~2.0.30",
       "button_style": "danger",
       "description": "horse",
       "layout": "IPY_MODEL_011a17c30bfd42e292acfde3027e04f8",
       "style": "IPY_MODEL_1e6d2835155c4cc48ad03d4275412885"
      }
     },
     "a91f62c97e524dce9269222d42e3ae84": {
      "model_module": "jupyter-js-widgets",
      "model_module_version": "~2.0.30",
      "model_name": "ButtonModel",
      "state": {
       "_model_module_version": "~2.0.30",
       "_view_module_version": "~2.0.30",
       "button_style": "warning",
       "description": "21",
       "layout": "IPY_MODEL_b94c079b9f024fc59124d5459ea8d767",
       "style": "IPY_MODEL_3427a11a996a483ca8f77259994ad068"
      }
     },
     "a981bab0b52841efa5a27098bf1732dd": {
      "model_module": "jupyter-js-widgets",
      "model_module_version": "~2.0.30",
      "model_name": "LayoutModel",
      "state": {
       "_model_module_version": "~2.0.30",
       "_view_module_version": "~2.0.30",
       "align_items": "stretch",
       "border": "solid 2px",
       "display": "flex",
       "flex_flow": "column",
       "width": "50%"
      }
     },
     "a9b5ddb9bda9478f91ad3316f44d847a": {
      "model_module": "jupyter-js-widgets",
      "model_module_version": "~2.0.30",
      "model_name": "FloatTextModel",
      "state": {
       "_model_module_version": "~2.0.30",
       "_view_module_version": "~2.0.30",
       "layout": "IPY_MODEL_96c560f275894cd48a33c1132f41d77d"
      }
     },
     "a9d02c29e2304990b21ae8119839233f": {
      "model_module": "jupyter-js-widgets",
      "model_module_version": "~2.0.30",
      "model_name": "ButtonModel",
      "state": {
       "_model_module_version": "~2.0.30",
       "_view_module_version": "~2.0.30",
       "button_style": "warning",
       "description": "23",
       "layout": "IPY_MODEL_b94c079b9f024fc59124d5459ea8d767",
       "style": "IPY_MODEL_349ecf66649445fa9e8067c516de2000"
      }
     },
     "ac1daeea507744ce8989754dfa1c98c8": {
      "model_module": "jupyter-js-widgets",
      "model_module_version": "~2.0.30",
      "model_name": "LayoutModel",
      "state": {
       "_model_module_version": "~2.0.30",
       "_view_module_version": "~2.0.30"
      }
     },
     "acf38f23450f4f3497ed555de884dbe5": {
      "model_module": "jupyter-js-widgets",
      "model_module_version": "~2.0.30",
      "model_name": "LayoutModel",
      "state": {
       "_model_module_version": "~2.0.30",
       "_view_module_version": "~2.0.30"
      }
     },
     "ad17ec3cb9dd4049b6c9e56214edc1e0": {
      "model_module": "jupyter-js-widgets",
      "model_module_version": "~2.0.30",
      "model_name": "LayoutModel",
      "state": {
       "_model_module_version": "~2.0.30",
       "_view_module_version": "~2.0.30"
      }
     },
     "ae710428f11549a9a3ec586157cfd455": {
      "model_module": "jupyter-js-widgets",
      "model_module_version": "~2.0.30",
      "model_name": "LabelModel",
      "state": {
       "_model_module_version": "~2.0.30",
       "_view_module_version": "~2.0.30",
       "layout": "IPY_MODEL_c5933654f12943258dc93c101e6ff85b",
       "value": "Information"
      }
     },
     "af1a262427a84749b37e5848aaf5e071": {
      "model_module": "jupyter-js-widgets",
      "model_module_version": "~2.0.30",
      "model_name": "ButtonModel",
      "state": {
       "_model_module_version": "~2.0.30",
       "_view_module_version": "~2.0.30",
       "button_style": "warning",
       "description": "10",
       "layout": "IPY_MODEL_b94c079b9f024fc59124d5459ea8d767",
       "style": "IPY_MODEL_260aedc11d544ab887e262a2bcb1f52c"
      }
     },
     "af25a1971f014881ac7005b4ea2cc5db": {
      "model_module": "jupyter-js-widgets",
      "model_module_version": "~2.0.30",
      "model_name": "ButtonStyleModel",
      "state": {
       "_model_module_version": "~2.0.30",
       "_view_module_version": "~2.0.30"
      }
     },
     "b009e18cee8b43d6b0b8cb9d2f8d43a2": {
      "model_module": "jupyter-js-widgets",
      "model_module_version": "~2.0.30",
      "model_name": "ButtonModel",
      "state": {
       "_model_module_version": "~2.0.30",
       "_view_module_version": "~2.0.30",
       "button_style": "warning",
       "description": "24",
       "layout": "IPY_MODEL_b94c079b9f024fc59124d5459ea8d767",
       "style": "IPY_MODEL_6f2d4c8bfc3e4ae1956f515c79f47ff1"
      }
     },
     "b0df58efbc344261894e793eee3e22d9": {
      "model_module": "jupyter-js-widgets",
      "model_module_version": "~2.0.30",
      "model_name": "ButtonModel",
      "state": {
       "_model_module_version": "~2.0.30",
       "_view_module_version": "~2.0.30",
       "description": "weight=1",
       "layout": "IPY_MODEL_634beb3c2da345c48152aabd41399905",
       "style": "IPY_MODEL_6e61b9725b774067a3e1f67c2f8cba62"
      }
     },
     "b2ff9c2ad5d341e68382354b4f7ece3b": {
      "model_module": "jupyter-js-widgets",
      "model_module_version": "~2.0.30",
      "model_name": "ButtonStyleModel",
      "state": {
       "_model_module_version": "~2.0.30",
       "_view_module_version": "~2.0.30"
      }
     },
     "b33aa4dec6b54e40adf01ffad5218dcd": {
      "model_module": "jupyter-js-widgets",
      "model_module_version": "~2.0.30",
      "model_name": "ButtonStyleModel",
      "state": {
       "_model_module_version": "~2.0.30",
       "_view_module_version": "~2.0.30"
      }
     },
     "b578d26bd50747de94344f11702af3f6": {
      "model_module": "jupyter-js-widgets",
      "model_module_version": "~2.0.30",
      "model_name": "ButtonModel",
      "state": {
       "_model_module_version": "~2.0.30",
       "_view_module_version": "~2.0.30",
       "button_style": "warning",
       "description": "20",
       "layout": "IPY_MODEL_b94c079b9f024fc59124d5459ea8d767",
       "style": "IPY_MODEL_95bac6ee683e4da89ccdb53e8079b1fd"
      }
     },
     "b5bf4d355f8548d3b9d89ed6577082e2": {
      "model_module": "jupyter-js-widgets",
      "model_module_version": "~2.0.30",
      "model_name": "ButtonModel",
      "state": {
       "_model_module_version": "~2.0.30",
       "_view_module_version": "~2.0.30",
       "description": "staple",
       "layout": "IPY_MODEL_5d7afbe5d8f2431fa4e1335b57091ea0",
       "style": "IPY_MODEL_fa1f89acd468408c975d7aa7ee0f2046"
      }
     },
     "b750eb7673d94893a7b7d1ed5f7cad71": {
      "model_module": "jupyter-js-widgets",
      "model_module_version": "~2.0.30",
      "model_name": "LayoutModel",
      "state": {
       "_model_module_version": "~2.0.30",
       "_view_module_version": "~2.0.30"
      }
     },
     "b84da85606de4079b511ae516a664962": {
      "model_module": "jupyter-js-widgets",
      "model_module_version": "~2.0.30",
      "model_name": "ButtonModel",
      "state": {
       "_model_module_version": "~2.0.30",
       "_view_module_version": "~2.0.30",
       "description": "Another button with the same layout",
       "layout": "IPY_MODEL_8e28aa419b7c45019bc617acf3c59a51",
       "style": "IPY_MODEL_7f1d088fdcd4401ea0a36d70c1e4ebd5"
      }
     },
     "b8e5698115d142e9b644a952863bb5df": {
      "model_module": "jupyter-js-widgets",
      "model_module_version": "~2.0.30",
      "model_name": "ButtonModel",
      "state": {
       "_model_module_version": "~2.0.30",
       "_view_module_version": "~2.0.30",
       "button_style": "warning",
       "description": "9",
       "layout": "IPY_MODEL_b94c079b9f024fc59124d5459ea8d767",
       "style": "IPY_MODEL_f16bdbeab34745adb7c42b69d4895c92"
      }
     },
     "b94952f5071a4c67aa6618667532a34a": {
      "model_module": "jupyter-js-widgets",
      "model_module_version": "~2.0.30",
      "model_name": "ButtonModel",
      "state": {
       "_model_module_version": "~2.0.30",
       "_view_module_version": "~2.0.30",
       "button_style": "warning",
       "description": "32",
       "layout": "IPY_MODEL_b94c079b9f024fc59124d5459ea8d767",
       "style": "IPY_MODEL_b2ff9c2ad5d341e68382354b4f7ece3b"
      }
     },
     "b94c079b9f024fc59124d5459ea8d767": {
      "model_module": "jupyter-js-widgets",
      "model_module_version": "~2.0.30",
      "model_name": "LayoutModel",
      "state": {
       "_model_module_version": "~2.0.30",
       "_view_module_version": "~2.0.30",
       "height": "100px",
       "min_width": "40px"
      }
     },
     "b9c0046679b048bc96bd95b789e8eb31": {
      "model_module": "jupyter-js-widgets",
      "model_module_version": "~2.0.30",
      "model_name": "LayoutModel",
      "state": {
       "_model_module_version": "~2.0.30",
       "_view_module_version": "~2.0.30"
      }
     },
     "bdb3c430073c4442bd31c91a2f558765": {
      "model_module": "jupyter-js-widgets",
      "model_module_version": "~2.0.30",
      "model_name": "ButtonStyleModel",
      "state": {
       "_model_module_version": "~2.0.30",
       "_view_module_version": "~2.0.30"
      }
     },
     "be2205669f2348d3ad138d2f98782a17": {
      "model_module": "jupyter-js-widgets",
      "model_module_version": "~2.0.30",
      "model_name": "ButtonModel",
      "state": {
       "_model_module_version": "~2.0.30",
       "_view_module_version": "~2.0.30",
       "button_style": "warning",
       "description": "30",
       "layout": "IPY_MODEL_b94c079b9f024fc59124d5459ea8d767",
       "style": "IPY_MODEL_b33aa4dec6b54e40adf01ffad5218dcd"
      }
     },
     "be2d1a8500c34bd38b0ba0a4ae2d90c7": {
      "model_module": "jupyter-js-widgets",
      "model_module_version": "~2.0.30",
      "model_name": "ButtonModel",
      "state": {
       "_model_module_version": "~2.0.30",
       "_view_module_version": "~2.0.30",
       "description": "battery",
       "layout": "IPY_MODEL_c55d7cc309d047c58119530b347c2656",
       "style": "IPY_MODEL_a13f3b204aac4df09727a63bb37cbdae"
      }
     },
     "be39bc28db2f4fde9fb4f603e62b66bd": {
      "model_module": "jupyter-js-widgets",
      "model_module_version": "~2.0.30",
      "model_name": "ButtonStyleModel",
      "state": {
       "_model_module_version": "~2.0.30",
       "_view_module_version": "~2.0.30"
      }
     },
     "be9a13dbb88144e292724898ac5cbfd7": {
      "model_module": "jupyter-js-widgets",
      "model_module_version": "~2.0.30",
      "model_name": "LayoutModel",
      "state": {
       "_model_module_version": "~2.0.30",
       "_view_module_version": "~2.0.30",
       "flex": "2 1 auto",
       "width": "auto"
      }
     },
     "bec9dbf12ddd4d32b8bceea9051a93b3": {
      "model_module": "jupyter-js-widgets",
      "model_module_version": "~2.0.30",
      "model_name": "LabelModel",
      "state": {
       "_model_module_version": "~2.0.30",
       "_view_module_version": "~2.0.30",
       "layout": "IPY_MODEL_6a42280c4f0145518a0df3b3e63fb0df",
       "value": "\\\\(e=mc^2\\\\)"
      }
     },
     "c06ebc75fd5a42b3b3604847ca0d77a1": {
      "model_module": "jupyter-js-widgets",
      "model_module_version": "~2.0.30",
      "model_name": "LayoutModel",
      "state": {
       "_model_module_version": "~2.0.30",
       "_view_module_version": "~2.0.30",
       "display": "flex",
       "flex_flow": "row",
       "justify_content": "space-between"
      }
     },
     "c09109873cd24017b4cbe7a6b2885c0a": {
      "model_module": "jupyter-js-widgets",
      "model_module_version": "~2.0.30",
      "model_name": "ButtonModel",
      "state": {
       "_model_module_version": "~2.0.30",
       "_view_module_version": "~2.0.30",
       "button_style": "warning",
       "description": "12",
       "layout": "IPY_MODEL_b94c079b9f024fc59124d5459ea8d767",
       "style": "IPY_MODEL_2ebf3ff12e924e9a9125231d9b400316"
      }
     },
     "c0ac8200e02c4476900bd6881a9b72b9": {
      "model_module": "jupyter-js-widgets",
      "model_module_version": "~2.0.30",
      "model_name": "ButtonStyleModel",
      "state": {
       "_model_module_version": "~2.0.30",
       "_view_module_version": "~2.0.30"
      }
     },
     "c1ad5497ce2f497f8b67cff2b6c50b86": {
      "model_module": "jupyter-js-widgets",
      "model_module_version": "~2.0.30",
      "model_name": "BoxModel",
      "state": {
       "_model_module_version": "~2.0.30",
       "_view_module_version": "~2.0.30",
       "children": [
        "IPY_MODEL_6ce8302b22a24a1083eeb4009b790485",
        "IPY_MODEL_52c7928ced4f4e15a6479af710f428f0"
       ],
       "layout": "IPY_MODEL_c06ebc75fd5a42b3b3604847ca0d77a1"
      }
     },
     "c55d7cc309d047c58119530b347c2656": {
      "model_module": "jupyter-js-widgets",
      "model_module_version": "~2.0.30",
      "model_name": "LayoutModel",
      "state": {
       "_model_module_version": "~2.0.30",
       "_view_module_version": "~2.0.30"
      }
     },
     "c5933654f12943258dc93c101e6ff85b": {
      "model_module": "jupyter-js-widgets",
      "model_module_version": "~2.0.30",
      "model_name": "LayoutModel",
      "state": {
       "_model_module_version": "~2.0.30",
       "_view_module_version": "~2.0.30"
      }
     },
     "c5a76460fb0e457aaaab42cbacff800a": {
      "model_module": "jupyter-js-widgets",
      "model_module_version": "~2.0.30",
      "model_name": "BoxModel",
      "state": {
       "_model_module_version": "~2.0.30",
       "_view_module_version": "~2.0.30",
       "children": [
        "IPY_MODEL_68c1525b74564d2d985444ecd3dcf2da",
        "IPY_MODEL_a7a84cead27e40dcb72409468f0f0480",
        "IPY_MODEL_718e8ab36636479790c55c0d7a2e18ad",
        "IPY_MODEL_31819531edea4a199b36de62b0bfae44"
       ],
       "layout": "IPY_MODEL_6bada2e82f124f38902742760041c4c5"
      }
     },
     "c795a9e6a9be46adacaa6f1c9fc6bb5c": {
      "model_module": "jupyter-js-widgets",
      "model_module_version": "~2.0.30",
      "model_name": "ButtonStyleModel",
      "state": {
       "_model_module_version": "~2.0.30",
       "_view_module_version": "~2.0.30"
      }
     },
     "c91ac3ac68ae48719df435ea90b217ae": {
      "model_module": "jupyter-js-widgets",
      "model_module_version": "~2.0.30",
      "model_name": "ButtonStyleModel",
      "state": {
       "_model_module_version": "~2.0.30",
       "_view_module_version": "~2.0.30"
      }
     },
     "c9c7937652184698938e4ccb880ec8b9": {
      "model_module": "jupyter-js-widgets",
      "model_module_version": "~2.0.30",
      "model_name": "BoxModel",
      "state": {
       "_model_module_version": "~2.0.30",
       "_view_module_version": "~2.0.30",
       "children": [
        "IPY_MODEL_b0df58efbc344261894e793eee3e22d9",
        "IPY_MODEL_ee79f4075836492d947116739acf2f78",
        "IPY_MODEL_ccf790606e3d4d6cb057a9da97734e31"
       ],
       "layout": "IPY_MODEL_89cbee5f7f9e4447be41bd5db70a3442"
      }
     },
     "ca9f0907e28e42bba03e24404002776d": {
      "model_module": "jupyter-js-widgets",
      "model_module_version": "~2.0.30",
      "model_name": "ButtonModel",
      "state": {
       "_model_module_version": "~2.0.30",
       "_view_module_version": "~2.0.30",
       "button_style": "warning",
       "description": "36",
       "layout": "IPY_MODEL_b94c079b9f024fc59124d5459ea8d767",
       "style": "IPY_MODEL_274d9223da0e4770a249cbc384acef2d"
      }
     },
     "cbe0b180ab674bb0a31e93fb69a1e3c1": {
      "model_module": "jupyter-js-widgets",
      "model_module_version": "~2.0.30",
      "model_name": "SliderStyleModel",
      "state": {
       "_model_module_version": "~2.0.30",
       "_view_module_version": "~2.0.30"
      }
     },
     "cc8d8176c18a4028ad8a79e679a76d9d": {
      "model_module": "jupyter-js-widgets",
      "model_module_version": "~2.0.30",
      "model_name": "ButtonModel",
      "state": {
       "_model_module_version": "~2.0.30",
       "_view_module_version": "~2.0.30",
       "button_style": "warning",
       "description": "34",
       "layout": "IPY_MODEL_b94c079b9f024fc59124d5459ea8d767",
       "style": "IPY_MODEL_889fbcf1005e4cdd9d4ec10f2366ab46"
      }
     },
     "ccf790606e3d4d6cb057a9da97734e31": {
      "model_module": "jupyter-js-widgets",
      "model_module_version": "~2.0.30",
      "model_name": "ButtonModel",
      "state": {
       "_model_module_version": "~2.0.30",
       "_view_module_version": "~2.0.30",
       "description": "weight=1",
       "layout": "IPY_MODEL_d99952587106444093d0793d031426e2",
       "style": "IPY_MODEL_553712d8bd55402999f348bfd3eff5b1"
      }
     },
     "cdb3e2384def4a3596d2077a120e0000": {
      "model_module": "jupyter-js-widgets",
      "model_module_version": "~2.0.30",
      "model_name": "SliderStyleModel",
      "state": {
       "_model_module_version": "~2.0.30",
       "_view_module_version": "~2.0.30"
      }
     },
     "cf6f550d53d747b88d33a706f7f8fddb": {
      "model_module": "jupyter-js-widgets",
      "model_module_version": "~2.0.30",
      "model_name": "LayoutModel",
      "state": {
       "_model_module_version": "~2.0.30",
       "_view_module_version": "~2.0.30"
      }
     },
     "d0959dd7c6c241c9807cac204273d95c": {
      "model_module": "jupyter-js-widgets",
      "model_module_version": "~2.0.30",
      "model_name": "LayoutModel",
      "state": {
       "_model_module_version": "~2.0.30",
       "_view_module_version": "~2.0.30"
      }
     },
     "d67225f357654533828016e4ac11ae75": {
      "model_module": "jupyter-js-widgets",
      "model_module_version": "~2.0.30",
      "model_name": "ButtonStyleModel",
      "state": {
       "_model_module_version": "~2.0.30",
       "_view_module_version": "~2.0.30"
      }
     },
     "d6fcda7ae5fb46569d46b547a0fdb895": {
      "model_module": "jupyter-js-widgets",
      "model_module_version": "~2.0.30",
      "model_name": "ButtonStyleModel",
      "state": {
       "_model_module_version": "~2.0.30",
       "_view_module_version": "~2.0.30"
      }
     },
     "d99952587106444093d0793d031426e2": {
      "model_module": "jupyter-js-widgets",
      "model_module_version": "~2.0.30",
      "model_name": "LayoutModel",
      "state": {
       "_model_module_version": "~2.0.30",
       "_view_module_version": "~2.0.30"
      }
     },
     "db4f5ed146a544f3ab3946a45c0b955e": {
      "model_module": "jupyter-js-widgets",
      "model_module_version": "~2.0.30",
      "model_name": "ButtonStyleModel",
      "state": {
       "_model_module_version": "~2.0.30",
       "_view_module_version": "~2.0.30"
      }
     },
     "de1093091c8a4668a8cfbd307f2f764f": {
      "model_module": "jupyter-js-widgets",
      "model_module_version": "~2.0.30",
      "model_name": "IntSliderModel",
      "state": {
       "_model_module_version": "~2.0.30",
       "_view_module_version": "~2.0.30",
       "layout": "IPY_MODEL_acf38f23450f4f3497ed555de884dbe5",
       "style": "IPY_MODEL_cdb3e2384def4a3596d2077a120e0000"
      }
     },
     "decdc69a16344349a9f122e4f0287330": {
      "model_module": "jupyter-js-widgets",
      "model_module_version": "~2.0.30",
      "model_name": "ButtonStyleModel",
      "state": {
       "_model_module_version": "~2.0.30",
       "_view_module_version": "~2.0.30"
      }
     },
     "e1017e0b8feb46b28a06f90528a04d86": {
      "model_module": "jupyter-js-widgets",
      "model_module_version": "~2.0.30",
      "model_name": "ButtonStyleModel",
      "state": {
       "_model_module_version": "~2.0.30",
       "_view_module_version": "~2.0.30"
      }
     },
     "e12a1ce973ea4d41987e3d623d140716": {
      "model_module": "jupyter-js-widgets",
      "model_module_version": "~2.0.30",
      "model_name": "LayoutModel",
      "state": {
       "_model_module_version": "~2.0.30",
       "_view_module_version": "~2.0.30"
      }
     },
     "e34f57ac460a405c8d57ae2484425875": {
      "model_module": "jupyter-js-widgets",
      "model_module_version": "~2.0.30",
      "model_name": "IntSliderModel",
      "state": {
       "_model_module_version": "~2.0.30",
       "_view_module_version": "~2.0.30",
       "description": "Blue handle",
       "layout": "IPY_MODEL_0d509fb9422e4398af48d152a493e8cd",
       "style": "IPY_MODEL_9033366c7a574534819d701c12b68800"
      }
     },
     "e722401918a64149914f0f513e002150": {
      "model_module": "jupyter-js-widgets",
      "model_module_version": "~2.0.30",
      "model_name": "ButtonStyleModel",
      "state": {
       "_model_module_version": "~2.0.30",
       "_view_module_version": "~2.0.30"
      }
     },
     "e7b582b8c4424e43be09f425a5010a6b": {
      "model_module": "jupyter-js-widgets",
      "model_module_version": "~2.0.30",
      "model_name": "ButtonModel",
      "state": {
       "_model_module_version": "~2.0.30",
       "_view_module_version": "~2.0.30",
       "button_style": "warning",
       "description": "14",
       "layout": "IPY_MODEL_b94c079b9f024fc59124d5459ea8d767",
       "style": "IPY_MODEL_c795a9e6a9be46adacaa6f1c9fc6bb5c"
      }
     },
     "ed1bbde2dda44174a2881b1b0a41f53e": {
      "model_module": "jupyter-js-widgets",
      "model_module_version": "~2.0.30",
      "model_name": "ButtonStyleModel",
      "state": {
       "_model_module_version": "~2.0.30",
       "_view_module_version": "~2.0.30"
      }
     },
     "ee79f4075836492d947116739acf2f78": {
      "model_module": "jupyter-js-widgets",
      "model_module_version": "~2.0.30",
      "model_name": "ButtonModel",
      "state": {
       "_model_module_version": "~2.0.30",
       "_view_module_version": "~2.0.30",
       "description": "weight=2",
       "layout": "IPY_MODEL_be9a13dbb88144e292724898ac5cbfd7",
       "style": "IPY_MODEL_46349e276261471e8440e0ba563c7bfb"
      }
     },
     "ef14fe0579e24d8f961ea1216b4184a6": {
      "model_module": "jupyter-js-widgets",
      "model_module_version": "~2.0.30",
      "model_name": "ButtonModel",
      "state": {
       "_model_module_version": "~2.0.30",
       "_view_module_version": "~2.0.30",
       "button_style": "warning",
       "description": "29",
       "layout": "IPY_MODEL_b94c079b9f024fc59124d5459ea8d767",
       "style": "IPY_MODEL_a02b452c926848dda9762aa17f435294"
      }
     },
     "ef76058ff27b4e02b5e3996eb150d894": {
      "model_module": "jupyter-js-widgets",
      "model_module_version": "~2.0.30",
      "model_name": "LabelModel",
      "state": {
       "_model_module_version": "~2.0.30",
       "_view_module_version": "~2.0.30",
       "layout": "IPY_MODEL_4057d3b1cf6d4c148a8966a16a8e5d50",
       "value": "Scroll horizontally:"
      }
     },
     "efe7912e36174ee48317ddd90e7ab774": {
      "model_module": "jupyter-js-widgets",
      "model_module_version": "~2.0.30",
      "model_name": "ButtonModel",
      "state": {
       "_model_module_version": "~2.0.30",
       "_view_module_version": "~2.0.30",
       "button_style": "warning",
       "description": "1",
       "layout": "IPY_MODEL_b94c079b9f024fc59124d5459ea8d767",
       "style": "IPY_MODEL_9880b47576ec4889a0097b45a44ef500"
      }
     },
     "f16bdbeab34745adb7c42b69d4895c92": {
      "model_module": "jupyter-js-widgets",
      "model_module_version": "~2.0.30",
      "model_name": "ButtonStyleModel",
      "state": {
       "_model_module_version": "~2.0.30",
       "_view_module_version": "~2.0.30"
      }
     },
     "f4f60af05fae4a29b9aec6f6d536c3b2": {
      "model_module": "jupyter-js-widgets",
      "model_module_version": "~2.0.30",
      "model_name": "ButtonStyleModel",
      "state": {
       "_model_module_version": "~2.0.30",
       "_view_module_version": "~2.0.30"
      }
     },
     "f5df80d77fea4475adbc47d73a7cb169": {
      "model_module": "jupyter-js-widgets",
      "model_module_version": "~2.0.30",
      "model_name": "BoxModel",
      "state": {
       "_model_module_version": "~2.0.30",
       "_view_module_version": "~2.0.30",
       "children": [
        "IPY_MODEL_371a9692c601485bb7093576b83f0204",
        "IPY_MODEL_7546c68ec32e475a99a3f5b18251cf7a"
       ],
       "layout": "IPY_MODEL_c06ebc75fd5a42b3b3604847ca0d77a1"
      }
     },
     "f5faa98bbae44b2880132c49dcac06d5": {
      "model_module": "jupyter-js-widgets",
      "model_module_version": "~2.0.30",
      "model_name": "ButtonStyleModel",
      "state": {
       "_model_module_version": "~2.0.30",
       "_view_module_version": "~2.0.30"
      }
     },
     "f72cb07835304ed9bb048a000f267c11": {
      "model_module": "jupyter-js-widgets",
      "model_module_version": "~2.0.30",
      "model_name": "LayoutModel",
      "state": {
       "_model_module_version": "~2.0.30",
       "_view_module_version": "~2.0.30"
      }
     },
     "f7c4c9785f8b418191d7d215a7fbce6f": {
      "model_module": "jupyter-js-widgets",
      "model_module_version": "~2.0.30",
      "model_name": "ButtonModel",
      "state": {
       "_model_module_version": "~2.0.30",
       "_view_module_version": "~2.0.30",
       "button_style": "warning",
       "description": "26",
       "layout": "IPY_MODEL_b94c079b9f024fc59124d5459ea8d767",
       "style": "IPY_MODEL_decdc69a16344349a9f122e4f0287330"
      }
     },
     "f7d956581d9b4362a0265a909a929d97": {
      "model_module": "jupyter-js-widgets",
      "model_module_version": "~2.0.30",
      "model_name": "ButtonModel",
      "state": {
       "_model_module_version": "~2.0.30",
       "_view_module_version": "~2.0.30",
       "description": "horse",
       "layout": "IPY_MODEL_cf6f550d53d747b88d33a706f7f8fddb",
       "style": "IPY_MODEL_7927db9a33dd4f09b7996b74ec799b2e"
      }
     },
     "fa1f89acd468408c975d7aa7ee0f2046": {
      "model_module": "jupyter-js-widgets",
      "model_module_version": "~2.0.30",
      "model_name": "ButtonStyleModel",
      "state": {
       "_model_module_version": "~2.0.30",
       "_view_module_version": "~2.0.30"
      }
     },
     "fc2ac2f34cdb41cdb1ef152f4e30ebea": {
      "model_module": "jupyter-js-widgets",
      "model_module_version": "~2.0.30",
      "model_name": "ButtonStyleModel",
      "state": {
       "_model_module_version": "~2.0.30",
       "_view_module_version": "~2.0.30",
       "button_color": "lightgreen"
      }
     },
     "fd5fef47fe574a7aad70da56f78a960e": {
      "model_module": "jupyter-js-widgets",
      "model_module_version": "~2.0.30",
      "model_name": "LabelModel",
      "state": {
       "_model_module_version": "~2.0.30",
       "_view_module_version": "~2.0.30",
       "layout": "IPY_MODEL_174e713537fc40fdb53ca625640dc4a7",
       "value": "A too long description"
      }
     },
     "fe96ca0a2a2147cfaa5d97f726b3182e": {
      "model_module": "jupyter-js-widgets",
      "model_module_version": "~2.0.30",
      "model_name": "ButtonModel",
      "state": {
       "_model_module_version": "~2.0.30",
       "_view_module_version": "~2.0.30",
       "button_style": "warning",
       "description": "19",
       "layout": "IPY_MODEL_b94c079b9f024fc59124d5459ea8d767",
       "style": "IPY_MODEL_a4a665b14f7e46c18c3a25e515e9c77f"
      }
     },
     "ff987f357aa1488c866dbe518b4592e4": {
      "model_module": "jupyter-js-widgets",
      "model_module_version": "~2.0.30",
      "model_name": "ButtonModel",
      "state": {
       "_model_module_version": "~2.0.30",
       "_view_module_version": "~2.0.30",
       "button_style": "danger",
       "description": "Danger Button",
       "layout": "IPY_MODEL_ad17ec3cb9dd4049b6c9e56214edc1e0",
       "style": "IPY_MODEL_ffa70889fb524242bdeecb92cfaa911b"
      }
     },
     "ffa70889fb524242bdeecb92cfaa911b": {
      "model_module": "jupyter-js-widgets",
      "model_module_version": "~2.0.30",
      "model_name": "ButtonStyleModel",
      "state": {
       "_model_module_version": "~2.0.30",
       "_view_module_version": "~2.0.30"
      }
     }
    },
    "version_major": 1,
    "version_minor": 0
   }
  }
 },
 "nbformat": 4,
 "nbformat_minor": 1
}
