{
 "cells": [
  {
   "cell_type": "code",
   "execution_count": 1,
   "metadata": {
    "collapsed": true,
    "deletable": true,
    "editable": true
   },
   "outputs": [],
   "source": [
    "from ipywidgets import *"
   ]
  },
  {
   "cell_type": "markdown",
   "metadata": {
    "deletable": true,
    "editable": true
   },
   "source": [
    "**1.** `VBox(HBox)`"
   ]
  },
  {
   "cell_type": "code",
   "execution_count": 2,
   "metadata": {
    "collapsed": false,
    "deletable": true,
    "editable": true
   },
   "outputs": [
    {
     "data": {
      "application/vnd.jupyter.widget-view+json": {
       "model_id": "4f85717cf04a41f584758dfd9049fa8d"
      }
     },
     "metadata": {},
     "output_type": "display_data"
    }
   ],
   "source": [
    "VBox([HBox([VBox([Dropdown(description='Choice', options=['foo', 'bar']), \n",
    "                  ColorPicker(description='Color'), \n",
    "                  HBox([Button(), Button()])]), \n",
    "            Textarea(value=\"Lorem ipsum dolor sit amet, consectetur adipiscing elit,\"\n",
    "\"sed do eiusmod tempor incididunt ut labore et dolore magna aliqua. \"\n",
    "\"Ut enim ad minim veniam, quis nostrud exercitation ullamco laboris \"\n",
    "\"nisi ut aliquip ex ea commodo consequat. Duis aute irure dolor in \"\n",
    "\"reprehenderit in voluptate velit esse cillum dolore eu fugiat nulla \"\n",
    "\"pariatur. Excepteur sint occaecat cupidatat non proident, sunt in culpa \"\n",
    "\"qui officia deserunt mollit anim id est laborum.\")]),\n",
    "      HBox([Text(), Checkbox(description='Check box')]), \n",
    "      IntSlider(), \n",
    "      Controller()], background_color='#EEE')"
   ]
  },
  {
   "cell_type": "markdown",
   "metadata": {
    "deletable": true,
    "editable": true
   },
   "source": [
    "**2.** `HBox(VBox)`"
   ]
  },
  {
   "cell_type": "code",
   "execution_count": 3,
   "metadata": {
    "collapsed": false,
    "deletable": true,
    "editable": true
   },
   "outputs": [
    {
     "data": {
      "application/vnd.jupyter.widget-view+json": {
       "model_id": "671cda6b8dd1438d94ffacebf87bad49"
      }
     },
     "metadata": {},
     "output_type": "display_data"
    }
   ],
   "source": [
    "HBox([VBox([Button(description='Press'), Dropdown(options=['a', 'b']), Button(description='Button')]), \n",
    "      VBox([Button(), Checkbox(), IntText()])], background_color='#EEE')"
   ]
  },
  {
   "cell_type": "markdown",
   "metadata": {
    "deletable": true,
    "editable": true
   },
   "source": [
    "**3.** `VBox(HBox)` width sliders, range sliders and progress bars"
   ]
  },
  {
   "cell_type": "code",
   "execution_count": 4,
   "metadata": {
    "collapsed": false,
    "deletable": true,
    "editable": true
   },
   "outputs": [
    {
     "data": {
      "application/vnd.jupyter.widget-view+json": {
       "model_id": "2c7cd59245df4aba9429753891ad9593"
      }
     },
     "metadata": {},
     "output_type": "display_data"
    }
   ],
   "source": [
    "VBox([HBox([Button(), FloatRangeSlider(), Text(), Button()]), \n",
    "      HBox([Button(), FloatText(),\n",
    "            FloatProgress(value=40), Checkbox(description='Check')]), \n",
    "      HBox([ToggleButton(), IntSlider(description='Foobar'),\n",
    "            Dropdown(options=['foo', 'bar']), Valid()]),\n",
    "     ])"
   ]
  },
  {
   "cell_type": "markdown",
   "metadata": {
    "deletable": true,
    "editable": true
   },
   "source": [
    "**4.** Dropdown resize"
   ]
  },
  {
   "cell_type": "code",
   "execution_count": 5,
   "metadata": {
    "collapsed": false,
    "deletable": true,
    "editable": true
   },
   "outputs": [
    {
     "data": {
      "application/vnd.jupyter.widget-view+json": {
       "model_id": "d4ffdde35ed54337b30056745a486188"
      }
     },
     "metadata": {},
     "output_type": "display_data"
    }
   ],
   "source": [
    "dd = Dropdown(description='Foobar', options=['foo', 'bar'])\n",
    "dd"
   ]
  },
  {
   "cell_type": "code",
   "execution_count": 6,
   "metadata": {
    "collapsed": true,
    "deletable": true,
    "editable": true
   },
   "outputs": [],
   "source": [
    "dd.layout.width = '148px'"
   ]
  },
  {
   "cell_type": "code",
   "execution_count": 7,
   "metadata": {
    "collapsed": true,
    "deletable": true,
    "editable": true
   },
   "outputs": [],
   "source": [
    "cp = ColorPicker(description='foobar')"
   ]
  },
  {
   "cell_type": "markdown",
   "metadata": {
    "deletable": true,
    "editable": true
   },
   "source": [
    "**5.** Colorpicker alignment, concise and long version"
   ]
  },
  {
   "cell_type": "code",
   "execution_count": 8,
   "metadata": {
    "collapsed": false,
    "deletable": true,
    "editable": true
   },
   "outputs": [
    {
     "data": {
      "application/vnd.jupyter.widget-view+json": {
       "model_id": "10aa0494eaab4e3bb1280e99d0d66f82"
      }
     },
     "metadata": {},
     "output_type": "display_data"
    }
   ],
   "source": [
    "VBox([HBox([Dropdown(width='148px', options=['foo', 'bar']),\n",
    "            Button(description='Button')]), cp, HBox([Button(), Button()])])"
   ]
  },
  {
   "cell_type": "code",
   "execution_count": 9,
   "metadata": {
    "collapsed": true,
    "deletable": true,
    "editable": true
   },
   "outputs": [],
   "source": [
    "cp.concise = True"
   ]
  },
  {
   "cell_type": "code",
   "execution_count": 10,
   "metadata": {
    "collapsed": true,
    "deletable": true,
    "editable": true
   },
   "outputs": [],
   "source": [
    "cp.concise = False"
   ]
  },
  {
   "cell_type": "code",
   "execution_count": 11,
   "metadata": {
    "collapsed": true,
    "deletable": true,
    "editable": true
   },
   "outputs": [],
   "source": [
    "cp2 = ColorPicker()"
   ]
  },
  {
   "cell_type": "code",
   "execution_count": 12,
   "metadata": {
    "collapsed": false,
    "deletable": true,
    "editable": true
   },
   "outputs": [
    {
     "data": {
      "application/vnd.jupyter.widget-view+json": {
       "model_id": "a1b4b13a15494a798c158725c7576093"
      }
     },
     "metadata": {},
     "output_type": "display_data"
    }
   ],
   "source": [
    "VBox([HBox([Button(), Button()]), cp2])"
   ]
  },
  {
   "cell_type": "code",
   "execution_count": 13,
   "metadata": {
    "collapsed": true,
    "deletable": true,
    "editable": true
   },
   "outputs": [],
   "source": [
    "cp2.concise = True"
   ]
  },
  {
   "cell_type": "code",
   "execution_count": 14,
   "metadata": {
    "collapsed": true,
    "deletable": true,
    "editable": true
   },
   "outputs": [],
   "source": [
    "cp2.concise = False"
   ]
  },
  {
   "cell_type": "markdown",
   "metadata": {
    "deletable": true,
    "editable": true
   },
   "source": [
    "**6.** Vertical slider and progress bar alignment and resize"
   ]
  },
  {
   "cell_type": "code",
   "execution_count": 15,
   "metadata": {
    "collapsed": false,
    "deletable": true,
    "editable": true
   },
   "outputs": [
    {
     "data": {
      "application/vnd.jupyter.widget-view+json": {
       "model_id": "2ce7d8b404bc4b4eab90a97000a7c2cc"
      }
     },
     "metadata": {},
     "output_type": "display_data"
    }
   ],
   "source": [
    "HBox([IntSlider(description='Slider', orientation='vertical', height='200px'),\n",
    "      FloatProgress(description='Progress', value=50, orientation='vertical', height='200px')])"
   ]
  },
  {
   "cell_type": "code",
   "execution_count": 16,
   "metadata": {
    "collapsed": false,
    "deletable": true,
    "editable": true
   },
   "outputs": [
    {
     "data": {
      "application/vnd.jupyter.widget-view+json": {
       "model_id": "411b8c192a8d4ae0bb25ff96c1339f36"
      }
     },
     "metadata": {},
     "output_type": "display_data"
    }
   ],
   "source": [
    "HBox([IntSlider(description='Slider', orientation='vertical'),\n",
    "      FloatProgress(description='Progress', value=50, orientation='vertical')])"
   ]
  },
  {
   "cell_type": "markdown",
   "metadata": {
    "deletable": true,
    "editable": true
   },
   "source": [
    "**7.** Tabs\n",
    "\n"
   ]
  },
  {
   "cell_type": "code",
   "execution_count": 17,
   "metadata": {
    "collapsed": false,
    "deletable": true,
    "editable": true
   },
   "outputs": [
    {
     "data": {
      "application/vnd.jupyter.widget-view+json": {
       "model_id": "86dae3022449495c90f0c7a2260d31d5"
      }
     },
     "metadata": {},
     "output_type": "display_data"
    }
   ],
   "source": [
    "t = Tab(children=[FloatText(), IntSlider()], _titles={0: 'Text', 1: 'Slider'})\n",
    "t"
   ]
  },
  {
   "cell_type": "code",
   "execution_count": 18,
   "metadata": {
    "collapsed": true,
    "deletable": true,
    "editable": true
   },
   "outputs": [],
   "source": [
    "t.selected_index = 1"
   ]
  }
 ],
 "metadata": {
  "kernelspec": {
   "display_name": "Python 3",
   "language": "python",
   "name": "python3"
  },
  "language_info": {
   "codemirror_mode": {
    "name": "ipython",
    "version": 3
   },
   "file_extension": ".py",
   "mimetype": "text/x-python",
   "name": "python",
   "nbconvert_exporter": "python",
   "pygments_lexer": "ipython3",
   "version": "3.5.2"
  },
  "widgets": {
   "application/vnd.jupyter.widget-state+json": {
    "state": {
     "01616a86f5bf4809a6648934a02119da": {
      "model_module": "jupyter-js-widgets",
      "model_module_version": "~2.0.30",
      "model_name": "ButtonModel",
      "state": {
       "_model_module_version": "~2.0.30",
       "_view_module_version": "~2.0.30",
       "layout": "IPY_MODEL_309aa15353ac46b98d3ed93b7f6057dc",
       "style": "IPY_MODEL_f037150f867b40c88c63c50bf890bdbf"
      }
     },
     "09c1dae1094d40b68d90555ec8e59669": {
      "model_module": "jupyter-js-widgets",
      "model_module_version": "~2.0.30",
      "model_name": "ButtonModel",
      "state": {
       "_model_module_version": "~2.0.30",
       "_view_module_version": "~2.0.30",
       "description": "Press",
       "layout": "IPY_MODEL_97b3b4f20c1049d3a047dbfe3bf0b6df",
       "style": "IPY_MODEL_0c79414c3fa54e849f78d3f4bed56989"
      }
     },
     "09e08652f168497e955c349ce2498f71": {
      "model_module": "jupyter-js-widgets",
      "model_module_version": "~2.0.30",
      "model_name": "ButtonModel",
      "state": {
       "_model_module_version": "~2.0.30",
       "_view_module_version": "~2.0.30",
       "layout": "IPY_MODEL_92b9383007874d81ab5de41e59c4f9a2",
       "style": "IPY_MODEL_7d493e85be464ed088ff8af124c00308"
      }
     },
     "0c79414c3fa54e849f78d3f4bed56989": {
      "model_module": "jupyter-js-widgets",
      "model_module_version": "~2.0.30",
      "model_name": "ButtonStyleModel",
      "state": {
       "_model_module_version": "~2.0.30",
       "_view_module_version": "~2.0.30"
      }
     },
     "0ffd0e5c1ae24f29a879c322136dc1a2": {
      "model_module": "jupyter-js-widgets",
      "model_module_version": "~2.0.30",
      "model_name": "ButtonStyleModel",
      "state": {
       "_model_module_version": "~2.0.30",
       "_view_module_version": "~2.0.30"
      }
     },
     "10aa0494eaab4e3bb1280e99d0d66f82": {
      "model_module": "jupyter-js-widgets",
      "model_module_version": "~2.0.30",
      "model_name": "VBoxModel",
      "state": {
       "_model_module_version": "~2.0.30",
       "_view_module_version": "~2.0.30",
       "children": [
        "IPY_MODEL_b4eaa7f8c79c4d57ae5ddf2c4f202771",
        "IPY_MODEL_a244d8e0bd1b4412b4fe9e321ba04062",
        "IPY_MODEL_94ca51ed9e7b4dbfbbe525fa50925484"
       ],
       "layout": "IPY_MODEL_f5644820b80546e99eab99a68a611de2"
      }
     },
     "11b074b093de4e06b2862f2b96a9750c": {
      "model_module": "jupyter-js-widgets",
      "model_module_version": "~2.0.30",
      "model_name": "LayoutModel",
      "state": {
       "_model_module_version": "~2.0.30",
       "_view_module_version": "~2.0.30"
      }
     },
     "1569cd091aec4dfdbf62ae9b43315942": {
      "model_module": "jupyter-js-widgets",
      "model_module_version": "~2.0.30",
      "model_name": "LayoutModel",
      "state": {
       "_model_module_version": "~2.0.30",
       "_view_module_version": "~2.0.30"
      }
     },
     "1584d10faf864d3abecf79f0f8133326": {
      "model_module": "jupyter-js-widgets",
      "model_module_version": "~2.0.30",
      "model_name": "HBoxModel",
      "state": {
       "_model_module_version": "~2.0.30",
       "_view_module_version": "~2.0.30",
       "children": [
        "IPY_MODEL_a9bc454001a940a7aa6718f2123f1e1a",
        "IPY_MODEL_7c3f26be94124ba9b4cee727dc4e39c1",
        "IPY_MODEL_5864c01f8c4d493089c3948ac4ca46e0",
        "IPY_MODEL_09e08652f168497e955c349ce2498f71"
       ],
       "layout": "IPY_MODEL_f4badf3ef4a2411aac2f39e7fd7ba550"
      }
     },
     "15a74b7f36ab437baca3ff86954a3564": {
      "model_module": "jupyter-js-widgets",
      "model_module_version": "~2.0.30",
      "model_name": "LayoutModel",
      "state": {
       "_model_module_version": "~2.0.30",
       "_view_module_version": "~2.0.30"
      }
     },
     "176bcde581e84eb78c201073362170b0": {
      "model_module": "jupyter-js-widgets",
      "model_module_version": "~2.0.30",
      "model_name": "DropdownModel",
      "state": {
       "_model_module_version": "~2.0.30",
       "_options_labels": [
        "a",
        "b"
       ],
       "_view_module_version": "~2.0.30",
       "layout": "IPY_MODEL_9cfb5d597aef4a6d8d012606fd45bc4b",
       "value": "a"
      }
     },
     "177835270b5841969966a3c81ff946ff": {
      "model_module": "jupyter-js-widgets",
      "model_module_version": "~2.0.30",
      "model_name": "FloatTextModel",
      "state": {
       "_model_module_version": "~2.0.30",
       "_view_module_version": "~2.0.30",
       "layout": "IPY_MODEL_e098720818224040ab1b0bc5e55b4d59"
      }
     },
     "197b984cb5bb47d58fab02e24e0bbc60": {
      "model_module": "jupyter-js-widgets",
      "model_module_version": "~2.0.30",
      "model_name": "LayoutModel",
      "state": {
       "_model_module_version": "~2.0.30",
       "_view_module_version": "~2.0.30"
      }
     },
     "1a21777ea8374be19dffa5df5a78d26c": {
      "model_module": "jupyter-js-widgets",
      "model_module_version": "~2.0.30",
      "model_name": "HBoxModel",
      "state": {
       "_model_module_version": "~2.0.30",
       "_view_module_version": "~2.0.30",
       "children": [
        "IPY_MODEL_7b347ae95d5b4873a0e1f4d23a36e659",
        "IPY_MODEL_58c7631e84db46f5838d5d8791a5ab1e"
       ],
       "layout": "IPY_MODEL_8ee9c633109c40618bd9de8c42beeaeb"
      }
     },
     "1ee1f42e058347559e054c460448bcb1": {
      "model_module": "jupyter-js-widgets",
      "model_module_version": "~2.0.30",
      "model_name": "LayoutModel",
      "state": {
       "_model_module_version": "~2.0.30",
       "_view_module_version": "~2.0.30",
       "width": "148px"
      }
     },
     "2218258262fe44e5af6ba2b267849f48": {
      "model_module": "jupyter-js-widgets",
      "model_module_version": "~2.0.30",
      "model_name": "DropdownModel",
      "state": {
       "_model_module_version": "~2.0.30",
       "_options_labels": [
        "foo",
        "bar"
       ],
       "_view_module_version": "~2.0.30",
       "layout": "IPY_MODEL_ce667d2268c949d39561a9be3c6d983f",
       "value": "foo"
      }
     },
     "23d6a4f6925541628db2b0f8843504b1": {
      "model_module": "jupyter-js-widgets",
      "model_module_version": "~2.0.30",
      "model_name": "ButtonStyleModel",
      "state": {
       "_model_module_version": "~2.0.30",
       "_view_module_version": "~2.0.30"
      }
     },
     "248e7a55d7b44b6c924f624c032dd087": {
      "model_module": "jupyter-js-widgets",
      "model_module_version": "~2.0.30",
      "model_name": "HBoxModel",
      "state": {
       "_model_module_version": "~2.0.30",
       "_view_module_version": "~2.0.30",
       "children": [
        "IPY_MODEL_931820354618442c8684e061f3fbd076",
        "IPY_MODEL_550ff909587a4f82bf3358f9fc6cde98"
       ],
       "layout": "IPY_MODEL_47357d58400343069b764f03bbe77460"
      }
     },
     "257a81858be745bdaf9f3688f9dbc6da": {
      "model_module": "jupyter-js-widgets",
      "model_module_version": "~2.0.30",
      "model_name": "ButtonModel",
      "state": {
       "_model_module_version": "~2.0.30",
       "_view_module_version": "~2.0.30",
       "layout": "IPY_MODEL_5398f5d9338d4d00ae73cc5fc591aa45",
       "style": "IPY_MODEL_ae668fbae51e4561a16a9988a854f32b"
      }
     },
     "2a6108f43fd14f64b29cbd80925f6d84": {
      "model_module": "jupyter-js-widgets",
      "model_module_version": "~2.0.30",
      "model_name": "LayoutModel",
      "state": {
       "_model_module_version": "~2.0.30",
       "_view_module_version": "~2.0.30"
      }
     },
     "2be72398094f40f1891432e453f3c766": {
      "model_module": "jupyter-js-widgets",
      "model_module_version": "~2.0.30",
      "model_name": "HBoxModel",
      "state": {
       "_model_module_version": "~2.0.30",
       "_view_module_version": "~2.0.30",
       "children": [
        "IPY_MODEL_da4d04e3a3a44d85b7fc61b96cc739c5",
        "IPY_MODEL_6f7647cfe2aa4f1e8295dde43039fed6",
        "IPY_MODEL_d86dc50404ea4551b9e9026f16ea0c9f",
        "IPY_MODEL_3bc0676766b249afb97e9de2efe5da64"
       ],
       "layout": "IPY_MODEL_3d0dc4aa148046b08fb48a6939b336cd"
      }
     },
     "2c7cd59245df4aba9429753891ad9593": {
      "model_module": "jupyter-js-widgets",
      "model_module_version": "~2.0.30",
      "model_name": "VBoxModel",
      "state": {
       "_model_module_version": "~2.0.30",
       "_view_module_version": "~2.0.30",
       "children": [
        "IPY_MODEL_1584d10faf864d3abecf79f0f8133326",
        "IPY_MODEL_2be72398094f40f1891432e453f3c766",
        "IPY_MODEL_cd1da6a9358d43f1aa4626b446ebe45b"
       ],
       "layout": "IPY_MODEL_d387541c4479437eaa9289ee22238740"
      }
     },
     "2ce7d8b404bc4b4eab90a97000a7c2cc": {
      "model_module": "jupyter-js-widgets",
      "model_module_version": "~2.0.30",
      "model_name": "HBoxModel",
      "state": {
       "_model_module_version": "~2.0.30",
       "_view_module_version": "~2.0.30",
       "children": [
        "IPY_MODEL_50026831f9ce41e9abd1ed5942af12d0",
        "IPY_MODEL_c279cd43cbec4e43966b8f1ce0e8e64c"
       ],
       "layout": "IPY_MODEL_83abcca1538444399da469eca74dc6a1"
      }
     },
     "2d720b015ac1462e905f3bfff3a2a6d5": {
      "model_module": "jupyter-js-widgets",
      "model_module_version": "~2.0.30",
      "model_name": "SliderStyleModel",
      "state": {
       "_model_module_version": "~2.0.30",
       "_view_module_version": "~2.0.30"
      }
     },
     "309aa15353ac46b98d3ed93b7f6057dc": {
      "model_module": "jupyter-js-widgets",
      "model_module_version": "~2.0.30",
      "model_name": "LayoutModel",
      "state": {
       "_model_module_version": "~2.0.30",
       "_view_module_version": "~2.0.30"
      }
     },
     "3237dd038bcf4acf923c7638f05e0402": {
      "model_module": "jupyter-js-widgets",
      "model_module_version": "~2.0.30",
      "model_name": "LayoutModel",
      "state": {
       "_model_module_version": "~2.0.30",
       "_view_module_version": "~2.0.30"
      }
     },
     "36342f6bd7c9432bbe1fcf7ed0c47192": {
      "model_module": "jupyter-js-widgets",
      "model_module_version": "~2.0.30",
      "model_name": "ButtonStyleModel",
      "state": {
       "_model_module_version": "~2.0.30",
       "_view_module_version": "~2.0.30"
      }
     },
     "3674340b4f5f47319e6211c4c3c6d034": {
      "model_module": "jupyter-js-widgets",
      "model_module_version": "~2.0.30",
      "model_name": "ColorPickerModel",
      "state": {
       "_model_module_version": "~2.0.30",
       "_view_module_version": "~2.0.30",
       "description": "Color",
       "layout": "IPY_MODEL_bb58fac0c0264c71831e8c9b22cfc5cc"
      }
     },
     "3687f79f84b945cfbec483fb1f372bc1": {
      "model_module": "jupyter-js-widgets",
      "model_module_version": "~2.0.30",
      "model_name": "CheckboxModel",
      "state": {
       "_model_module_version": "~2.0.30",
       "_view_module_version": "~2.0.30",
       "disabled": false,
       "layout": "IPY_MODEL_640e8c8c45d840fdb92965f2cde0b889",
       "value": false
      }
     },
     "3833ce98c805415a805502a05b8e7a79": {
      "model_module": "jupyter-js-widgets",
      "model_module_version": "~2.0.30",
      "model_name": "VBoxModel",
      "state": {
       "_model_module_version": "~2.0.30",
       "_view_module_version": "~2.0.30",
       "children": [
        "IPY_MODEL_09c1dae1094d40b68d90555ec8e59669",
        "IPY_MODEL_176bcde581e84eb78c201073362170b0",
        "IPY_MODEL_7251fc91840442288d3de7d9e1c9d134"
       ],
       "layout": "IPY_MODEL_d20366a7701145a1a656610581d24f30"
      }
     },
     "385302eb72dd4927be05b84ecf109f28": {
      "model_module": "jupyter-js-widgets",
      "model_module_version": "~2.0.30",
      "model_name": "LayoutModel",
      "state": {
       "_model_module_version": "~2.0.30",
       "_view_module_version": "~2.0.30"
      }
     },
     "3bc0676766b249afb97e9de2efe5da64": {
      "model_module": "jupyter-js-widgets",
      "model_module_version": "~2.0.30",
      "model_name": "CheckboxModel",
      "state": {
       "_model_module_version": "~2.0.30",
       "_view_module_version": "~2.0.30",
       "description": "Check",
       "disabled": false,
       "layout": "IPY_MODEL_8e0a12c00f1848f18e9f9d4b1f76bbfb",
       "value": false
      }
     },
     "3d0dc4aa148046b08fb48a6939b336cd": {
      "model_module": "jupyter-js-widgets",
      "model_module_version": "~2.0.30",
      "model_name": "LayoutModel",
      "state": {
       "_model_module_version": "~2.0.30",
       "_view_module_version": "~2.0.30"
      }
     },
     "411b8c192a8d4ae0bb25ff96c1339f36": {
      "model_module": "jupyter-js-widgets",
      "model_module_version": "~2.0.30",
      "model_name": "HBoxModel",
      "state": {
       "_model_module_version": "~2.0.30",
       "_view_module_version": "~2.0.30",
       "children": [
        "IPY_MODEL_8b6817f757d640188a22e1bffc9ecda9",
        "IPY_MODEL_600d3f5c57584fb2baad626d9c4a68fd"
       ],
       "layout": "IPY_MODEL_cf22ba8dcf1b42bd8eabb0eb729e3e76"
      }
     },
     "42cf99b7514e4f648305d15461ccfba3": {
      "model_module": "jupyter-js-widgets",
      "model_module_version": "~2.0.30",
      "model_name": "LayoutModel",
      "state": {
       "_model_module_version": "~2.0.30",
       "_view_module_version": "~2.0.30"
      }
     },
     "431bb5d0539f4cd8874754290a4c017d": {
      "model_module": "jupyter-js-widgets",
      "model_module_version": "~2.0.30",
      "model_name": "LayoutModel",
      "state": {
       "_model_module_version": "~2.0.30",
       "_view_module_version": "~2.0.30"
      }
     },
     "47357d58400343069b764f03bbe77460": {
      "model_module": "jupyter-js-widgets",
      "model_module_version": "~2.0.30",
      "model_name": "LayoutModel",
      "state": {
       "_model_module_version": "~2.0.30",
       "_view_module_version": "~2.0.30"
      }
     },
     "4a90c1e1d7c243b698f589aec86aae6b": {
      "model_module": "jupyter-js-widgets",
      "model_module_version": "~2.0.30",
      "model_name": "LayoutModel",
      "state": {
       "_model_module_version": "~2.0.30",
       "_view_module_version": "~2.0.30"
      }
     },
     "4b4cf2ce0daf497fa952b9a629fc9ee7": {
      "model_module": "jupyter-js-widgets",
      "model_module_version": "~2.0.30",
      "model_name": "LayoutModel",
      "state": {
       "_model_module_version": "~2.0.30",
       "_view_module_version": "~2.0.30"
      }
     },
     "4f83fc3c295c4ac9b97b2fd6821d1f29": {
      "model_module": "jupyter-js-widgets",
      "model_module_version": "~2.0.30",
      "model_name": "IntTextModel",
      "state": {
       "_model_module_version": "~2.0.30",
       "_view_module_version": "~2.0.30",
       "layout": "IPY_MODEL_42cf99b7514e4f648305d15461ccfba3"
      }
     },
     "4f85717cf04a41f584758dfd9049fa8d": {
      "model_module": "jupyter-js-widgets",
      "model_module_version": "~2.0.30",
      "model_name": "VBoxModel",
      "state": {
       "_model_module_version": "~2.0.30",
       "_view_module_version": "~2.0.30",
       "children": [
        "IPY_MODEL_248e7a55d7b44b6c924f624c032dd087",
        "IPY_MODEL_1a21777ea8374be19dffa5df5a78d26c",
        "IPY_MODEL_b180edfbfbb8409c9f7850d537d0e96f",
        "IPY_MODEL_9e391aeab1a045cab51c3b032e7640bb"
       ],
       "layout": "IPY_MODEL_af72d68ba6fd4cc7abb69e258cd7b665"
      }
     },
     "50026831f9ce41e9abd1ed5942af12d0": {
      "model_module": "jupyter-js-widgets",
      "model_module_version": "~2.0.30",
      "model_name": "IntSliderModel",
      "state": {
       "_model_module_version": "~2.0.30",
       "_view_module_version": "~2.0.30",
       "description": "Slider",
       "layout": "IPY_MODEL_956640443c8c49dba9d1851cbb6c9e5d",
       "orientation": "vertical",
       "style": "IPY_MODEL_2d720b015ac1462e905f3bfff3a2a6d5"
      }
     },
     "5398f5d9338d4d00ae73cc5fc591aa45": {
      "model_module": "jupyter-js-widgets",
      "model_module_version": "~2.0.30",
      "model_name": "LayoutModel",
      "state": {
       "_model_module_version": "~2.0.30",
       "_view_module_version": "~2.0.30"
      }
     },
     "550ff909587a4f82bf3358f9fc6cde98": {
      "model_module": "jupyter-js-widgets",
      "model_module_version": "~2.0.30",
      "model_name": "TextareaModel",
      "state": {
       "_model_module_version": "~2.0.30",
       "_view_module_version": "~2.0.30",
       "layout": "IPY_MODEL_eaa8a41e34e74c37bb4c56b13a3c8acf",
       "value": "Lorem ipsum dolor sit amet, consectetur adipiscing elit,sed do eiusmod tempor incididunt ut labore et dolore magna aliqua. Ut enim ad minim veniam, quis nostrud exercitation ullamco laboris nisi ut aliquip ex ea commodo consequat. Duis aute irure dolor in reprehenderit in voluptate velit esse cillum dolore eu fugiat nulla pariatur. Excepteur sint occaecat cupidatat non proident, sunt in culpa qui officia deserunt mollit anim id est laborum."
      }
     },
     "5864c01f8c4d493089c3948ac4ca46e0": {
      "model_module": "jupyter-js-widgets",
      "model_module_version": "~2.0.30",
      "model_name": "TextModel",
      "state": {
       "_model_module_version": "~2.0.30",
       "_view_module_version": "~2.0.30",
       "layout": "IPY_MODEL_61d31a7385e04c23afca515ba32d46be"
      }
     },
     "58c7631e84db46f5838d5d8791a5ab1e": {
      "model_module": "jupyter-js-widgets",
      "model_module_version": "~2.0.30",
      "model_name": "CheckboxModel",
      "state": {
       "_model_module_version": "~2.0.30",
       "_view_module_version": "~2.0.30",
       "description": "Check box",
       "disabled": false,
       "layout": "IPY_MODEL_15a74b7f36ab437baca3ff86954a3564",
       "value": false
      }
     },
     "5934c03e5da949bca94f97f845910c9f": {
      "model_module": "jupyter-js-widgets",
      "model_module_version": "~2.0.30",
      "model_name": "LayoutModel",
      "state": {
       "_model_module_version": "~2.0.30",
       "_view_module_version": "~2.0.30"
      }
     },
     "5a24653918784cd1a09e706c551d0d02": {
      "model_module": "jupyter-js-widgets",
      "model_module_version": "~2.0.30",
      "model_name": "ButtonStyleModel",
      "state": {
       "_model_module_version": "~2.0.30",
       "_view_module_version": "~2.0.30"
      }
     },
     "5fee53468b044f798d0432014717bdd3": {
      "model_module": "jupyter-js-widgets",
      "model_module_version": "~2.0.30",
      "model_name": "LayoutModel",
      "state": {
       "_model_module_version": "~2.0.30",
       "_view_module_version": "~2.0.30"
      }
     },
     "600d3f5c57584fb2baad626d9c4a68fd": {
      "model_module": "jupyter-js-widgets",
      "model_module_version": "~2.0.30",
      "model_name": "ProgressModel",
      "state": {
       "_model_module_version": "~2.0.30",
       "_view_module_version": "~2.0.30",
       "description": "Progress",
       "layout": "IPY_MODEL_d4fdf61801d04b35abf1defba9e13dde",
       "orientation": "vertical",
       "step": 0.1,
       "value": 50
      }
     },
     "614492cda33a4922afbbf18cfc510d2b": {
      "model_module": "jupyter-js-widgets",
      "model_module_version": "~2.0.30",
      "model_name": "LayoutModel",
      "state": {
       "_model_module_version": "~2.0.30",
       "_view_module_version": "~2.0.30"
      }
     },
     "61d31a7385e04c23afca515ba32d46be": {
      "model_module": "jupyter-js-widgets",
      "model_module_version": "~2.0.30",
      "model_name": "LayoutModel",
      "state": {
       "_model_module_version": "~2.0.30",
       "_view_module_version": "~2.0.30"
      }
     },
     "640e8c8c45d840fdb92965f2cde0b889": {
      "model_module": "jupyter-js-widgets",
      "model_module_version": "~2.0.30",
      "model_name": "LayoutModel",
      "state": {
       "_model_module_version": "~2.0.30",
       "_view_module_version": "~2.0.30"
      }
     },
     "6561e6c78a504c0a9089c5c978412bf2": {
      "model_module": "jupyter-js-widgets",
      "model_module_version": "~2.0.30",
      "model_name": "LayoutModel",
      "state": {
       "_model_module_version": "~2.0.30",
       "_view_module_version": "~2.0.30"
      }
     },
     "671cda6b8dd1438d94ffacebf87bad49": {
      "model_module": "jupyter-js-widgets",
      "model_module_version": "~2.0.30",
      "model_name": "HBoxModel",
      "state": {
       "_model_module_version": "~2.0.30",
       "_view_module_version": "~2.0.30",
       "children": [
        "IPY_MODEL_3833ce98c805415a805502a05b8e7a79",
        "IPY_MODEL_c53d0c34ecb14733b922519066404f7b"
       ],
       "layout": "IPY_MODEL_2a6108f43fd14f64b29cbd80925f6d84"
      }
     },
     "67608935ad3a454f82fa67133b78df52": {
      "model_module": "jupyter-js-widgets",
      "model_module_version": "~2.0.30",
      "model_name": "IntSliderModel",
      "state": {
       "_model_module_version": "~2.0.30",
       "_view_module_version": "~2.0.30",
       "description": "Foobar",
       "layout": "IPY_MODEL_b8a352c64d1f4d3da866f8bbf501cdfb",
       "style": "IPY_MODEL_e14e6ccac2ab4397ab09715c65a1fdff"
      }
     },
     "67cf6d26b2cc449bb3d86b24e2e18628": {
      "model_module": "jupyter-js-widgets",
      "model_module_version": "~2.0.30",
      "model_name": "ButtonStyleModel",
      "state": {
       "_model_module_version": "~2.0.30",
       "_view_module_version": "~2.0.30"
      }
     },
     "6cdf71b2666748b288b50750207bfc61": {
      "model_module": "jupyter-js-widgets",
      "model_module_version": "~2.0.30",
      "model_name": "LayoutModel",
      "state": {
       "_model_module_version": "~2.0.30",
       "_view_module_version": "~2.0.30"
      }
     },
     "6de56fc9f9144803891b590eba2c4e25": {
      "model_module": "jupyter-js-widgets",
      "model_module_version": "~2.0.30",
      "model_name": "LayoutModel",
      "state": {
       "_model_module_version": "~2.0.30",
       "_view_module_version": "~2.0.30"
      }
     },
     "6f7647cfe2aa4f1e8295dde43039fed6": {
      "model_module": "jupyter-js-widgets",
      "model_module_version": "~2.0.30",
      "model_name": "FloatTextModel",
      "state": {
       "_model_module_version": "~2.0.30",
       "_view_module_version": "~2.0.30",
       "layout": "IPY_MODEL_d05d5848c12a424bb5708f2efc045e77"
      }
     },
     "7251fc91840442288d3de7d9e1c9d134": {
      "model_module": "jupyter-js-widgets",
      "model_module_version": "~2.0.30",
      "model_name": "ButtonModel",
      "state": {
       "_model_module_version": "~2.0.30",
       "_view_module_version": "~2.0.30",
       "layout": "IPY_MODEL_b7dd6db5689c4039a6f48df102dc22d7",
       "style": "IPY_MODEL_36342f6bd7c9432bbe1fcf7ed0c47192"
      }
     },
     "7524dcee2025400ca37d6cf942589f1d": {
      "model_module": "jupyter-js-widgets",
      "model_module_version": "~2.0.30",
      "model_name": "ValidModel",
      "state": {
       "_model_module_version": "~2.0.30",
       "_view_module_version": "~2.0.30",
       "layout": "IPY_MODEL_cd52b009164f4f5ca989afcb48ddad29"
      }
     },
     "765189ace52e42fea176c381ddb3bbc7": {
      "model_module": "jupyter-js-widgets",
      "model_module_version": "~2.0.30",
      "model_name": "ButtonModel",
      "state": {
       "_model_module_version": "~2.0.30",
       "_view_module_version": "~2.0.30",
       "layout": "IPY_MODEL_97b245f26068496c86ebef3c01291018",
       "style": "IPY_MODEL_bce67e8066fd4c20ad3e4cda8c758c11"
      }
     },
     "79efaa86be85489aba74008bbf50f9e6": {
      "model_module": "jupyter-js-widgets",
      "model_module_version": "~2.0.30",
      "model_name": "LayoutModel",
      "state": {
       "_model_module_version": "~2.0.30",
       "_view_module_version": "~2.0.30"
      }
     },
     "7a951f593103468eaf4cf70c1600acba": {
      "model_module": "jupyter-js-widgets",
      "model_module_version": "~2.0.30",
      "model_name": "ButtonStyleModel",
      "state": {
       "_model_module_version": "~2.0.30",
       "_view_module_version": "~2.0.30"
      }
     },
     "7b347ae95d5b4873a0e1f4d23a36e659": {
      "model_module": "jupyter-js-widgets",
      "model_module_version": "~2.0.30",
      "model_name": "TextModel",
      "state": {
       "_model_module_version": "~2.0.30",
       "_view_module_version": "~2.0.30",
       "layout": "IPY_MODEL_6cdf71b2666748b288b50750207bfc61"
      }
     },
     "7c3f26be94124ba9b4cee727dc4e39c1": {
      "model_module": "jupyter-js-widgets",
      "model_module_version": "~2.0.30",
      "model_name": "FloatSliderModel",
      "state": {
       "_model_module_version": "~2.0.30",
       "_range": true,
       "_view_module_version": "~2.0.30",
       "layout": "IPY_MODEL_9889160826a44a24bdea36ba97e12b2d",
       "value": [
        25,
        75
       ]
      }
     },
     "7d493e85be464ed088ff8af124c00308": {
      "model_module": "jupyter-js-widgets",
      "model_module_version": "~2.0.30",
      "model_name": "ButtonStyleModel",
      "state": {
       "_model_module_version": "~2.0.30",
       "_view_module_version": "~2.0.30"
      }
     },
     "81cb64b2de8148a4afd7f9fc97b1ed13": {
      "model_module": "jupyter-js-widgets",
      "model_module_version": "~2.0.30",
      "model_name": "LayoutModel",
      "state": {
       "_model_module_version": "~2.0.30",
       "_view_module_version": "~2.0.30"
      }
     },
     "83abcca1538444399da469eca74dc6a1": {
      "model_module": "jupyter-js-widgets",
      "model_module_version": "~2.0.30",
      "model_name": "LayoutModel",
      "state": {
       "_model_module_version": "~2.0.30",
       "_view_module_version": "~2.0.30"
      }
     },
     "85aa5c0023974787be0518e544b12849": {
      "model_module": "jupyter-js-widgets",
      "model_module_version": "~2.0.30",
      "model_name": "LayoutModel",
      "state": {
       "_model_module_version": "~2.0.30",
       "_view_module_version": "~2.0.30"
      }
     },
     "86dae3022449495c90f0c7a2260d31d5": {
      "model_module": "jupyter-js-widgets",
      "model_module_version": "~2.0.30",
      "model_name": "TabModel",
      "state": {
       "_model_module_version": "~2.0.30",
       "_titles": {
        "0": "Text",
        "1": "Slider"
       },
       "_view_module_version": "~2.0.30",
       "children": [
        "IPY_MODEL_177835270b5841969966a3c81ff946ff",
        "IPY_MODEL_9f760417a42e4af89356ff20935cbbf2"
       ],
       "layout": "IPY_MODEL_385302eb72dd4927be05b84ecf109f28",
       "selected_index": 1
      }
     },
     "87a6222acd744fdcb3457b826572025c": {
      "model_module": "jupyter-js-widgets",
      "model_module_version": "~2.0.30",
      "model_name": "ButtonModel",
      "state": {
       "_model_module_version": "~2.0.30",
       "_view_module_version": "~2.0.30",
       "layout": "IPY_MODEL_f26a984e25b1469685972ebd2ccb7584",
       "style": "IPY_MODEL_67cf6d26b2cc449bb3d86b24e2e18628"
      }
     },
     "8b6817f757d640188a22e1bffc9ecda9": {
      "model_module": "jupyter-js-widgets",
      "model_module_version": "~2.0.30",
      "model_name": "IntSliderModel",
      "state": {
       "_model_module_version": "~2.0.30",
       "_view_module_version": "~2.0.30",
       "description": "Slider",
       "layout": "IPY_MODEL_b183b5dd5d284da8ac0541c1a27c0d4c",
       "orientation": "vertical",
       "style": "IPY_MODEL_c7f828d1dc904c9fb2348ead5d769a5b"
      }
     },
     "8db36fb3af184cea8e5aa11d0b8642a6": {
      "model_module": "jupyter-js-widgets",
      "model_module_version": "~2.0.30",
      "model_name": "ColorPickerModel",
      "state": {
       "_model_module_version": "~2.0.30",
       "_view_module_version": "~2.0.30",
       "layout": "IPY_MODEL_e24e4f153a024a2a942a0ebefab2956c"
      }
     },
     "8e0a12c00f1848f18e9f9d4b1f76bbfb": {
      "model_module": "jupyter-js-widgets",
      "model_module_version": "~2.0.30",
      "model_name": "LayoutModel",
      "state": {
       "_model_module_version": "~2.0.30",
       "_view_module_version": "~2.0.30"
      }
     },
     "8ee9c633109c40618bd9de8c42beeaeb": {
      "model_module": "jupyter-js-widgets",
      "model_module_version": "~2.0.30",
      "model_name": "LayoutModel",
      "state": {
       "_model_module_version": "~2.0.30",
       "_view_module_version": "~2.0.30"
      }
     },
     "92b9383007874d81ab5de41e59c4f9a2": {
      "model_module": "jupyter-js-widgets",
      "model_module_version": "~2.0.30",
      "model_name": "LayoutModel",
      "state": {
       "_model_module_version": "~2.0.30",
       "_view_module_version": "~2.0.30"
      }
     },
     "931820354618442c8684e061f3fbd076": {
      "model_module": "jupyter-js-widgets",
      "model_module_version": "~2.0.30",
      "model_name": "VBoxModel",
      "state": {
       "_model_module_version": "~2.0.30",
       "_view_module_version": "~2.0.30",
       "children": [
        "IPY_MODEL_e1e65eb0d605466e9e8716edfede7f00",
        "IPY_MODEL_3674340b4f5f47319e6211c4c3c6d034",
        "IPY_MODEL_c0c8c46d9be14ac1a2e51d7a1771b210"
       ],
       "layout": "IPY_MODEL_1569cd091aec4dfdbf62ae9b43315942"
      }
     },
     "94ca51ed9e7b4dbfbbe525fa50925484": {
      "model_module": "jupyter-js-widgets",
      "model_module_version": "~2.0.30",
      "model_name": "HBoxModel",
      "state": {
       "_model_module_version": "~2.0.30",
       "_view_module_version": "~2.0.30",
       "children": [
        "IPY_MODEL_99ac9bd49d0c4398b6109e4f9b260e93",
        "IPY_MODEL_87a6222acd744fdcb3457b826572025c"
       ],
       "layout": "IPY_MODEL_85aa5c0023974787be0518e544b12849"
      }
     },
     "956640443c8c49dba9d1851cbb6c9e5d": {
      "model_module": "jupyter-js-widgets",
      "model_module_version": "~2.0.30",
      "model_name": "LayoutModel",
      "state": {
       "_model_module_version": "~2.0.30",
       "_view_module_version": "~2.0.30"
      }
     },
     "97494a92329a412aab691b18aee72512": {
      "model_module": "jupyter-js-widgets",
      "model_module_version": "~2.0.30",
      "model_name": "LayoutModel",
      "state": {
       "_model_module_version": "~2.0.30",
       "_view_module_version": "~2.0.30"
      }
     },
     "97b245f26068496c86ebef3c01291018": {
      "model_module": "jupyter-js-widgets",
      "model_module_version": "~2.0.30",
      "model_name": "LayoutModel",
      "state": {
       "_model_module_version": "~2.0.30",
       "_view_module_version": "~2.0.30"
      }
     },
     "97b3b4f20c1049d3a047dbfe3bf0b6df": {
      "model_module": "jupyter-js-widgets",
      "model_module_version": "~2.0.30",
      "model_name": "LayoutModel",
      "state": {
       "_model_module_version": "~2.0.30",
       "_view_module_version": "~2.0.30"
      }
     },
     "9889160826a44a24bdea36ba97e12b2d": {
      "model_module": "jupyter-js-widgets",
      "model_module_version": "~2.0.30",
      "model_name": "LayoutModel",
      "state": {
       "_model_module_version": "~2.0.30",
       "_view_module_version": "~2.0.30"
      }
     },
     "994b54736c224eb5a47bac2ab87222d0": {
      "model_module": "jupyter-js-widgets",
      "model_module_version": "~2.0.30",
      "model_name": "ButtonStyleModel",
      "state": {
       "_model_module_version": "~2.0.30",
       "_view_module_version": "~2.0.30"
      }
     },
     "99ac9bd49d0c4398b6109e4f9b260e93": {
      "model_module": "jupyter-js-widgets",
      "model_module_version": "~2.0.30",
      "model_name": "ButtonModel",
      "state": {
       "_model_module_version": "~2.0.30",
       "_view_module_version": "~2.0.30",
       "layout": "IPY_MODEL_6de56fc9f9144803891b590eba2c4e25",
       "style": "IPY_MODEL_bf4a7e2479264c25b76015a3a062d737"
      }
     },
     "9cfb5d597aef4a6d8d012606fd45bc4b": {
      "model_module": "jupyter-js-widgets",
      "model_module_version": "~2.0.30",
      "model_name": "LayoutModel",
      "state": {
       "_model_module_version": "~2.0.30",
       "_view_module_version": "~2.0.30"
      }
     },
     "9e391aeab1a045cab51c3b032e7640bb": {
      "model_module": "jupyter-js-widgets",
      "model_module_version": "~2.0.30",
      "model_name": "ControllerModel",
      "state": {
       "_model_module_version": "~2.0.30",
       "_view_module_version": "~2.0.30",
       "layout": "IPY_MODEL_9ef93e584eb64bf4920223d5e0193514"
      }
     },
     "9ef93e584eb64bf4920223d5e0193514": {
      "model_module": "jupyter-js-widgets",
      "model_module_version": "~2.0.30",
      "model_name": "LayoutModel",
      "state": {
       "_model_module_version": "~2.0.30",
       "_view_module_version": "~2.0.30"
      }
     },
     "9f616ef2321446e6b51156099ff4681d": {
      "model_module": "jupyter-js-widgets",
      "model_module_version": "~2.0.30",
      "model_name": "SliderStyleModel",
      "state": {
       "_model_module_version": "~2.0.30",
       "_view_module_version": "~2.0.30"
      }
     },
     "9f760417a42e4af89356ff20935cbbf2": {
      "model_module": "jupyter-js-widgets",
      "model_module_version": "~2.0.30",
      "model_name": "IntSliderModel",
      "state": {
       "_model_module_version": "~2.0.30",
       "_view_module_version": "~2.0.30",
       "layout": "IPY_MODEL_5fee53468b044f798d0432014717bdd3",
       "style": "IPY_MODEL_d98f324ac2b64bdbb0f5ee76af306327"
      }
     },
     "a1b4b13a15494a798c158725c7576093": {
      "model_module": "jupyter-js-widgets",
      "model_module_version": "~2.0.30",
      "model_name": "VBoxModel",
      "state": {
       "_model_module_version": "~2.0.30",
       "_view_module_version": "~2.0.30",
       "children": [
        "IPY_MODEL_dde3c1c13c7846f383569dbb21b17437",
        "IPY_MODEL_8db36fb3af184cea8e5aa11d0b8642a6"
       ],
       "layout": "IPY_MODEL_3237dd038bcf4acf923c7638f05e0402"
      }
     },
     "a244d8e0bd1b4412b4fe9e321ba04062": {
      "model_module": "jupyter-js-widgets",
      "model_module_version": "~2.0.30",
      "model_name": "ColorPickerModel",
      "state": {
       "_model_module_version": "~2.0.30",
       "_view_module_version": "~2.0.30",
       "description": "foobar",
       "layout": "IPY_MODEL_c04f610445994d96803a0c8bc0808cf2"
      }
     },
     "a9bc454001a940a7aa6718f2123f1e1a": {
      "model_module": "jupyter-js-widgets",
      "model_module_version": "~2.0.30",
      "model_name": "ButtonModel",
      "state": {
       "_model_module_version": "~2.0.30",
       "_view_module_version": "~2.0.30",
       "layout": "IPY_MODEL_c4d6459a1ff14344992050db4cfa612b",
       "style": "IPY_MODEL_23d6a4f6925541628db2b0f8843504b1"
      }
     },
     "ae668fbae51e4561a16a9988a854f32b": {
      "model_module": "jupyter-js-widgets",
      "model_module_version": "~2.0.30",
      "model_name": "ButtonStyleModel",
      "state": {
       "_model_module_version": "~2.0.30",
       "_view_module_version": "~2.0.30"
      }
     },
     "af72d68ba6fd4cc7abb69e258cd7b665": {
      "model_module": "jupyter-js-widgets",
      "model_module_version": "~2.0.30",
      "model_name": "LayoutModel",
      "state": {
       "_model_module_version": "~2.0.30",
       "_view_module_version": "~2.0.30"
      }
     },
     "b180edfbfbb8409c9f7850d537d0e96f": {
      "model_module": "jupyter-js-widgets",
      "model_module_version": "~2.0.30",
      "model_name": "IntSliderModel",
      "state": {
       "_model_module_version": "~2.0.30",
       "_view_module_version": "~2.0.30",
       "layout": "IPY_MODEL_11b074b093de4e06b2862f2b96a9750c",
       "style": "IPY_MODEL_9f616ef2321446e6b51156099ff4681d"
      }
     },
     "b183b5dd5d284da8ac0541c1a27c0d4c": {
      "model_module": "jupyter-js-widgets",
      "model_module_version": "~2.0.30",
      "model_name": "LayoutModel",
      "state": {
       "_model_module_version": "~2.0.30",
       "_view_module_version": "~2.0.30"
      }
     },
     "b4eaa7f8c79c4d57ae5ddf2c4f202771": {
      "model_module": "jupyter-js-widgets",
      "model_module_version": "~2.0.30",
      "model_name": "HBoxModel",
      "state": {
       "_model_module_version": "~2.0.30",
       "_view_module_version": "~2.0.30",
       "children": [
        "IPY_MODEL_dea6307c39014a098bc563af6871ea8d",
        "IPY_MODEL_d80e79f2ce4d42f2ad65b73b5e85fe96"
       ],
       "layout": "IPY_MODEL_4b4cf2ce0daf497fa952b9a629fc9ee7"
      }
     },
     "b7dd6db5689c4039a6f48df102dc22d7": {
      "model_module": "jupyter-js-widgets",
      "model_module_version": "~2.0.30",
      "model_name": "LayoutModel",
      "state": {
       "_model_module_version": "~2.0.30",
       "_view_module_version": "~2.0.30"
      }
     },
     "b8a352c64d1f4d3da866f8bbf501cdfb": {
      "model_module": "jupyter-js-widgets",
      "model_module_version": "~2.0.30",
      "model_name": "LayoutModel",
      "state": {
       "_model_module_version": "~2.0.30",
       "_view_module_version": "~2.0.30"
      }
     },
     "bb58fac0c0264c71831e8c9b22cfc5cc": {
      "model_module": "jupyter-js-widgets",
      "model_module_version": "~2.0.30",
      "model_name": "LayoutModel",
      "state": {
       "_model_module_version": "~2.0.30",
       "_view_module_version": "~2.0.30"
      }
     },
     "bce67e8066fd4c20ad3e4cda8c758c11": {
      "model_module": "jupyter-js-widgets",
      "model_module_version": "~2.0.30",
      "model_name": "ButtonStyleModel",
      "state": {
       "_model_module_version": "~2.0.30",
       "_view_module_version": "~2.0.30"
      }
     },
     "bf4a7e2479264c25b76015a3a062d737": {
      "model_module": "jupyter-js-widgets",
      "model_module_version": "~2.0.30",
      "model_name": "ButtonStyleModel",
      "state": {
       "_model_module_version": "~2.0.30",
       "_view_module_version": "~2.0.30"
      }
     },
     "c04f610445994d96803a0c8bc0808cf2": {
      "model_module": "jupyter-js-widgets",
      "model_module_version": "~2.0.30",
      "model_name": "LayoutModel",
      "state": {
       "_model_module_version": "~2.0.30",
       "_view_module_version": "~2.0.30"
      }
     },
     "c0c8c46d9be14ac1a2e51d7a1771b210": {
      "model_module": "jupyter-js-widgets",
      "model_module_version": "~2.0.30",
      "model_name": "HBoxModel",
      "state": {
       "_model_module_version": "~2.0.30",
       "_view_module_version": "~2.0.30",
       "children": [
        "IPY_MODEL_ec17789213af468682194ed81b2761db",
        "IPY_MODEL_cc801329f2c543bda925c4a635c478c0"
       ],
       "layout": "IPY_MODEL_5934c03e5da949bca94f97f845910c9f"
      }
     },
     "c279cd43cbec4e43966b8f1ce0e8e64c": {
      "model_module": "jupyter-js-widgets",
      "model_module_version": "~2.0.30",
      "model_name": "ProgressModel",
      "state": {
       "_model_module_version": "~2.0.30",
       "_view_module_version": "~2.0.30",
       "description": "Progress",
       "layout": "IPY_MODEL_6561e6c78a504c0a9089c5c978412bf2",
       "orientation": "vertical",
       "step": 0.1,
       "value": 50
      }
     },
     "c4d6459a1ff14344992050db4cfa612b": {
      "model_module": "jupyter-js-widgets",
      "model_module_version": "~2.0.30",
      "model_name": "LayoutModel",
      "state": {
       "_model_module_version": "~2.0.30",
       "_view_module_version": "~2.0.30"
      }
     },
     "c53d0c34ecb14733b922519066404f7b": {
      "model_module": "jupyter-js-widgets",
      "model_module_version": "~2.0.30",
      "model_name": "VBoxModel",
      "state": {
       "_model_module_version": "~2.0.30",
       "_view_module_version": "~2.0.30",
       "children": [
        "IPY_MODEL_01616a86f5bf4809a6648934a02119da",
        "IPY_MODEL_3687f79f84b945cfbec483fb1f372bc1",
        "IPY_MODEL_4f83fc3c295c4ac9b97b2fd6821d1f29"
       ],
       "layout": "IPY_MODEL_f62cbad3ab4442c2b2682cd5e02844c7"
      }
     },
     "c7f828d1dc904c9fb2348ead5d769a5b": {
      "model_module": "jupyter-js-widgets",
      "model_module_version": "~2.0.30",
      "model_name": "SliderStyleModel",
      "state": {
       "_model_module_version": "~2.0.30",
       "_view_module_version": "~2.0.30"
      }
     },
     "cc801329f2c543bda925c4a635c478c0": {
      "model_module": "jupyter-js-widgets",
      "model_module_version": "~2.0.30",
      "model_name": "ButtonModel",
      "state": {
       "_model_module_version": "~2.0.30",
       "_view_module_version": "~2.0.30",
       "layout": "IPY_MODEL_79efaa86be85489aba74008bbf50f9e6",
       "style": "IPY_MODEL_7a951f593103468eaf4cf70c1600acba"
      }
     },
     "cd1da6a9358d43f1aa4626b446ebe45b": {
      "model_module": "jupyter-js-widgets",
      "model_module_version": "~2.0.30",
      "model_name": "HBoxModel",
      "state": {
       "_model_module_version": "~2.0.30",
       "_view_module_version": "~2.0.30",
       "children": [
        "IPY_MODEL_e6062f4b5d7547a9925c479ca77fd991",
        "IPY_MODEL_67608935ad3a454f82fa67133b78df52",
        "IPY_MODEL_2218258262fe44e5af6ba2b267849f48",
        "IPY_MODEL_7524dcee2025400ca37d6cf942589f1d"
       ],
       "layout": "IPY_MODEL_97494a92329a412aab691b18aee72512"
      }
     },
     "cd52b009164f4f5ca989afcb48ddad29": {
      "model_module": "jupyter-js-widgets",
      "model_module_version": "~2.0.30",
      "model_name": "LayoutModel",
      "state": {
       "_model_module_version": "~2.0.30",
       "_view_module_version": "~2.0.30"
      }
     },
     "ce667d2268c949d39561a9be3c6d983f": {
      "model_module": "jupyter-js-widgets",
      "model_module_version": "~2.0.30",
      "model_name": "LayoutModel",
      "state": {
       "_model_module_version": "~2.0.30",
       "_view_module_version": "~2.0.30"
      }
     },
     "cf22ba8dcf1b42bd8eabb0eb729e3e76": {
      "model_module": "jupyter-js-widgets",
      "model_module_version": "~2.0.30",
      "model_name": "LayoutModel",
      "state": {
       "_model_module_version": "~2.0.30",
       "_view_module_version": "~2.0.30"
      }
     },
     "d05d5848c12a424bb5708f2efc045e77": {
      "model_module": "jupyter-js-widgets",
      "model_module_version": "~2.0.30",
      "model_name": "LayoutModel",
      "state": {
       "_model_module_version": "~2.0.30",
       "_view_module_version": "~2.0.30"
      }
     },
     "d20366a7701145a1a656610581d24f30": {
      "model_module": "jupyter-js-widgets",
      "model_module_version": "~2.0.30",
      "model_name": "LayoutModel",
      "state": {
       "_model_module_version": "~2.0.30",
       "_view_module_version": "~2.0.30"
      }
     },
     "d387541c4479437eaa9289ee22238740": {
      "model_module": "jupyter-js-widgets",
      "model_module_version": "~2.0.30",
      "model_name": "LayoutModel",
      "state": {
       "_model_module_version": "~2.0.30",
       "_view_module_version": "~2.0.30"
      }
     },
     "d4fdf61801d04b35abf1defba9e13dde": {
      "model_module": "jupyter-js-widgets",
      "model_module_version": "~2.0.30",
      "model_name": "LayoutModel",
      "state": {
       "_model_module_version": "~2.0.30",
       "_view_module_version": "~2.0.30"
      }
     },
     "d4ffdde35ed54337b30056745a486188": {
      "model_module": "jupyter-js-widgets",
      "model_module_version": "~2.0.30",
      "model_name": "DropdownModel",
      "state": {
       "_model_module_version": "~2.0.30",
       "_options_labels": [
        "foo",
        "bar"
       ],
       "_view_module_version": "~2.0.30",
       "description": "Foobar",
       "layout": "IPY_MODEL_1ee1f42e058347559e054c460448bcb1",
       "value": "foo"
      }
     },
     "d80e79f2ce4d42f2ad65b73b5e85fe96": {
      "model_module": "jupyter-js-widgets",
      "model_module_version": "~2.0.30",
      "model_name": "ButtonModel",
      "state": {
       "_model_module_version": "~2.0.30",
       "_view_module_version": "~2.0.30",
       "layout": "IPY_MODEL_fb065ec9492b481e9f0320ea8e93dea4",
       "style": "IPY_MODEL_5a24653918784cd1a09e706c551d0d02"
      }
     },
     "d86dc50404ea4551b9e9026f16ea0c9f": {
      "model_module": "jupyter-js-widgets",
      "model_module_version": "~2.0.30",
      "model_name": "ProgressModel",
      "state": {
       "_model_module_version": "~2.0.30",
       "_view_module_version": "~2.0.30",
       "layout": "IPY_MODEL_614492cda33a4922afbbf18cfc510d2b",
       "step": 0.1,
       "value": 40
      }
     },
     "d98f324ac2b64bdbb0f5ee76af306327": {
      "model_module": "jupyter-js-widgets",
      "model_module_version": "~2.0.30",
      "model_name": "SliderStyleModel",
      "state": {
       "_model_module_version": "~2.0.30",
       "_view_module_version": "~2.0.30"
      }
     },
     "da4d04e3a3a44d85b7fc61b96cc739c5": {
      "model_module": "jupyter-js-widgets",
      "model_module_version": "~2.0.30",
      "model_name": "ButtonModel",
      "state": {
       "_model_module_version": "~2.0.30",
       "_view_module_version": "~2.0.30",
       "layout": "IPY_MODEL_431bb5d0539f4cd8874754290a4c017d",
       "style": "IPY_MODEL_0ffd0e5c1ae24f29a879c322136dc1a2"
      }
     },
     "dde3c1c13c7846f383569dbb21b17437": {
      "model_module": "jupyter-js-widgets",
      "model_module_version": "~2.0.30",
      "model_name": "HBoxModel",
      "state": {
       "_model_module_version": "~2.0.30",
       "_view_module_version": "~2.0.30",
       "children": [
        "IPY_MODEL_765189ace52e42fea176c381ddb3bbc7",
        "IPY_MODEL_257a81858be745bdaf9f3688f9dbc6da"
       ],
       "layout": "IPY_MODEL_f8e530b745f240a49022ea54ee4a7988"
      }
     },
     "dea6307c39014a098bc563af6871ea8d": {
      "model_module": "jupyter-js-widgets",
      "model_module_version": "~2.0.30",
      "model_name": "DropdownModel",
      "state": {
       "_model_module_version": "~2.0.30",
       "_options_labels": [
        "foo",
        "bar"
       ],
       "_view_module_version": "~2.0.30",
       "layout": "IPY_MODEL_81cb64b2de8148a4afd7f9fc97b1ed13",
       "value": "foo"
      }
     },
     "e07f640ad2a5461b97b15e04d5281e33": {
      "model_module": "jupyter-js-widgets",
      "model_module_version": "~2.0.30",
      "model_name": "LayoutModel",
      "state": {
       "_model_module_version": "~2.0.30",
       "_view_module_version": "~2.0.30"
      }
     },
     "e098720818224040ab1b0bc5e55b4d59": {
      "model_module": "jupyter-js-widgets",
      "model_module_version": "~2.0.30",
      "model_name": "LayoutModel",
      "state": {
       "_model_module_version": "~2.0.30",
       "_view_module_version": "~2.0.30"
      }
     },
     "e14e6ccac2ab4397ab09715c65a1fdff": {
      "model_module": "jupyter-js-widgets",
      "model_module_version": "~2.0.30",
      "model_name": "SliderStyleModel",
      "state": {
       "_model_module_version": "~2.0.30",
       "_view_module_version": "~2.0.30"
      }
     },
     "e1e65eb0d605466e9e8716edfede7f00": {
      "model_module": "jupyter-js-widgets",
      "model_module_version": "~2.0.30",
      "model_name": "DropdownModel",
      "state": {
       "_model_module_version": "~2.0.30",
       "_options_labels": [
        "foo",
        "bar"
       ],
       "_view_module_version": "~2.0.30",
       "description": "Choice",
       "layout": "IPY_MODEL_197b984cb5bb47d58fab02e24e0bbc60",
       "value": "foo"
      }
     },
     "e24e4f153a024a2a942a0ebefab2956c": {
      "model_module": "jupyter-js-widgets",
      "model_module_version": "~2.0.30",
      "model_name": "LayoutModel",
      "state": {
       "_model_module_version": "~2.0.30",
       "_view_module_version": "~2.0.30"
      }
     },
     "e6062f4b5d7547a9925c479ca77fd991": {
      "model_module": "jupyter-js-widgets",
      "model_module_version": "~2.0.30",
      "model_name": "ToggleButtonModel",
      "state": {
       "_model_module_version": "~2.0.30",
       "_view_module_version": "~2.0.30",
       "layout": "IPY_MODEL_e07f640ad2a5461b97b15e04d5281e33"
      }
     },
     "eaa8a41e34e74c37bb4c56b13a3c8acf": {
      "model_module": "jupyter-js-widgets",
      "model_module_version": "~2.0.30",
      "model_name": "LayoutModel",
      "state": {
       "_model_module_version": "~2.0.30",
       "_view_module_version": "~2.0.30"
      }
     },
     "ec17789213af468682194ed81b2761db": {
      "model_module": "jupyter-js-widgets",
      "model_module_version": "~2.0.30",
      "model_name": "ButtonModel",
      "state": {
       "_model_module_version": "~2.0.30",
       "_view_module_version": "~2.0.30",
       "layout": "IPY_MODEL_4a90c1e1d7c243b698f589aec86aae6b",
       "style": "IPY_MODEL_994b54736c224eb5a47bac2ab87222d0"
      }
     },
     "f037150f867b40c88c63c50bf890bdbf": {
      "model_module": "jupyter-js-widgets",
      "model_module_version": "~2.0.30",
      "model_name": "ButtonStyleModel",
      "state": {
       "_model_module_version": "~2.0.30",
       "_view_module_version": "~2.0.30"
      }
     },
     "f26a984e25b1469685972ebd2ccb7584": {
      "model_module": "jupyter-js-widgets",
      "model_module_version": "~2.0.30",
      "model_name": "LayoutModel",
      "state": {
       "_model_module_version": "~2.0.30",
       "_view_module_version": "~2.0.30"
      }
     },
     "f4badf3ef4a2411aac2f39e7fd7ba550": {
      "model_module": "jupyter-js-widgets",
      "model_module_version": "~2.0.30",
      "model_name": "LayoutModel",
      "state": {
       "_model_module_version": "~2.0.30",
       "_view_module_version": "~2.0.30"
      }
     },
     "f5644820b80546e99eab99a68a611de2": {
      "model_module": "jupyter-js-widgets",
      "model_module_version": "~2.0.30",
      "model_name": "LayoutModel",
      "state": {
       "_model_module_version": "~2.0.30",
       "_view_module_version": "~2.0.30"
      }
     },
     "f62cbad3ab4442c2b2682cd5e02844c7": {
      "model_module": "jupyter-js-widgets",
      "model_module_version": "~2.0.30",
      "model_name": "LayoutModel",
      "state": {
       "_model_module_version": "~2.0.30",
       "_view_module_version": "~2.0.30"
      }
     },
     "f8e530b745f240a49022ea54ee4a7988": {
      "model_module": "jupyter-js-widgets",
      "model_module_version": "~2.0.30",
      "model_name": "LayoutModel",
      "state": {
       "_model_module_version": "~2.0.30",
       "_view_module_version": "~2.0.30"
      }
     },
     "fb065ec9492b481e9f0320ea8e93dea4": {
      "model_module": "jupyter-js-widgets",
      "model_module_version": "~2.0.30",
      "model_name": "LayoutModel",
      "state": {
       "_model_module_version": "~2.0.30",
       "_view_module_version": "~2.0.30"
      }
     }
    },
    "version_major": 1,
    "version_minor": 0
   }
  }
 },
 "nbformat": 4,
 "nbformat_minor": 1
}
