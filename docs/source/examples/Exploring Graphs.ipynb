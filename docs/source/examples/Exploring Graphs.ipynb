{
 "cells": [
  {
   "cell_type": "markdown",
   "metadata": {
    "deletable": true,
    "editable": true
   },
   "source": [
    "## Explore Random Graphs Using NetworkX"
   ]
  },
  {
   "cell_type": "markdown",
   "metadata": {
    "deletable": true,
    "editable": true
   },
   "source": [
    "In this example, we build a simple UI for exploring random graphs with [NetworkX](http://networkx.github.io/)."
   ]
  },
  {
   "cell_type": "code",
   "execution_count": 1,
   "metadata": {
    "collapsed": true,
    "deletable": true,
    "editable": true
   },
   "outputs": [],
   "source": [
    "from ipywidgets import interact"
   ]
  },
  {
   "cell_type": "code",
   "execution_count": 2,
   "metadata": {
    "collapsed": true,
    "deletable": true,
    "editable": true
   },
   "outputs": [],
   "source": [
    "%matplotlib inline\n",
    "import matplotlib.pyplot as plt"
   ]
  },
  {
   "cell_type": "code",
   "execution_count": 3,
   "metadata": {
    "collapsed": true,
    "deletable": true,
    "editable": true
   },
   "outputs": [],
   "source": [
    "import networkx as nx"
   ]
  },
  {
   "cell_type": "code",
   "execution_count": 4,
   "metadata": {
    "collapsed": true,
    "deletable": true,
    "editable": true
   },
   "outputs": [],
   "source": [
    "# wrap a few graph generation functions so they have the same signature\n",
    "\n",
    "def random_lobster(n, m, k, p):\n",
    "    return nx.random_lobster(n, p, p / m)\n",
    "\n",
    "def powerlaw_cluster(n, m, k, p):\n",
    "    return nx.powerlaw_cluster_graph(n, m, p)\n",
    "\n",
    "def erdos_renyi(n, m, k, p):\n",
    "    return nx.erdos_renyi_graph(n, p)\n",
    "\n",
    "def newman_watts_strogatz(n, m, k, p):\n",
    "    return nx.newman_watts_strogatz_graph(n, k, p)\n",
    "\n",
    "def plot_random_graph(n, m, k, p, generator):\n",
    "    g = generator(n, m, k, p)\n",
    "    nx.draw(g)\n",
    "    plt.show()"
   ]
  },
  {
   "cell_type": "code",
   "execution_count": 5,
   "metadata": {
    "collapsed": false,
    "deletable": true,
    "editable": true
   },
   "outputs": [
    {
     "data": {
      "application/vnd.jupyter.widget-view+json": {
       "model_id": "cb41685e49c24656aeb18a445e6815dc"
      }
     },
     "metadata": {},
     "output_type": "display_data"
    }
   ],
   "source": [
    "interact(plot_random_graph, n=(2,30), m=(1,10), k=(1,10), p=(0.0, 1.0, 0.001),\n",
    "         generator={\n",
    "             'lobster': random_lobster,\n",
    "             'power law': powerlaw_cluster,\n",
    "             'Newman-Watts-Strogatz': newman_watts_strogatz,\n",
    "             u'Erdős-Rényi': erdos_renyi,\n",
    "         });"
   ]
  }
 ],
 "metadata": {
  "kernelspec": {
   "display_name": "Python 3",
   "language": "python",
   "name": "python3"
  },
  "language_info": {
   "codemirror_mode": {
    "name": "ipython",
    "version": 3
   },
   "file_extension": ".py",
   "mimetype": "text/x-python",
   "name": "python",
   "nbconvert_exporter": "python",
   "pygments_lexer": "ipython3",
   "version": "3.5.2"
  },
  "widgets": {
   "application/vnd.jupyter.widget-state+json": {
    "state": {
     "0129f5a2a6584a7593bf7b17ce9c7a44": {
      "model_module": "jupyter-js-widgets",
      "model_module_version": "~2.0.30",
      "model_name": "LayoutModel",
      "state": {
       "_model_module_version": "~2.0.30",
       "_view_module_version": "~2.0.30"
      }
     },
     "05daba90ab5644d19adebac742b4eb03": {
      "model_module": "jupyter-js-widgets",
      "model_module_version": "~2.0.30",
      "model_name": "LayoutModel",
      "state": {
       "_model_module_version": "~2.0.30",
       "_view_module_version": "~2.0.30"
      }
     },
     "05e9df686fa24096aab0339021607a90": {
      "model_module": "jupyter-js-widgets",
      "model_module_version": "~2.0.30",
      "model_name": "IntSliderModel",
      "state": {
       "_model_module_version": "~2.0.30",
       "_view_module_version": "~2.0.30",
       "description": "n",
       "layout": "IPY_MODEL_4e436f5cc1a14864af76bbaa2eade4a2",
       "max": 30,
       "min": 2,
       "style": "IPY_MODEL_7ae80bc10fb14c39bdefa9824ca39c15",
       "value": 16
      }
     },
     "0b617efcdd064e2da4d96a9f45064540": {
      "model_module": "jupyter-js-widgets",
      "model_module_version": "~2.0.30",
      "model_name": "SliderStyleModel",
      "state": {
       "_model_module_version": "~2.0.30",
       "_view_module_version": "~2.0.30"
      }
     },
     "19be816118d74f37bcc625729b2902c3": {
      "model_module": "jupyter-js-widgets",
      "model_module_version": "~2.0.30",
      "model_name": "LayoutModel",
      "state": {
       "_model_module_version": "~2.0.30",
       "_view_module_version": "~2.0.30"
      }
     },
     "201fea37eff843a5b944c4865290cb0e": {
      "model_module": "jupyter-js-widgets",
      "model_module_version": "~2.0.30",
      "model_name": "SliderStyleModel",
      "state": {
       "_model_module_version": "~2.0.30",
       "_view_module_version": "~2.0.30"
      }
     },
     "24a3848488254d6db6be4a22edf17681": {
      "model_module": "jupyter-js-widgets",
      "model_module_version": "~2.0.30",
      "model_name": "LayoutModel",
      "state": {
       "_model_module_version": "~2.0.30",
       "_view_module_version": "~2.0.30"
      }
     },
     "2f1249d0b0894e2498a35b4141f39fef": {
      "model_module": "jupyter-js-widgets",
      "model_module_version": "~2.0.30",
      "model_name": "LayoutModel",
      "state": {
       "_model_module_version": "~2.0.30",
       "_view_module_version": "~2.0.30"
      }
     },
     "32afb1095086467f8602b81155fe00f1": {
      "model_module": "jupyter-js-widgets",
      "model_module_version": "~2.0.30",
      "model_name": "SliderStyleModel",
      "state": {
       "_model_module_version": "~2.0.30",
       "_view_module_version": "~2.0.30"
      }
     },
     "46235e0174e3460da972fca74df318f9": {
      "model_module": "jupyter-js-widgets",
      "model_module_version": "~2.0.30",
      "model_name": "LayoutModel",
      "state": {
       "_model_module_version": "~2.0.30",
       "_view_module_version": "~2.0.30"
      }
     },
     "4b0e07623c0d4564a7521970cb7ca194": {
      "model_module": "jupyter-js-widgets",
      "model_module_version": "~2.0.30",
      "model_name": "FloatSliderModel",
      "state": {
       "_model_module_version": "~2.0.30",
       "_view_module_version": "~2.0.30",
       "description": "p",
       "layout": "IPY_MODEL_19be816118d74f37bcc625729b2902c3",
       "max": 1,
       "step": 0.001,
       "value": 0.5
      }
     },
     "4b5b2a1f7e2247079a74c63c8936682b": {
      "model_module": "jupyter-js-widgets",
      "model_module_version": "~2.0.30",
      "model_name": "LayoutModel",
      "state": {
       "_model_module_version": "~2.0.30",
       "_view_module_version": "~2.0.30"
      }
     },
     "4b68cce3215145e689f9ce488a6b5513": {
      "model_module": "jupyter-js-widgets",
      "model_module_version": "~2.0.30",
      "model_name": "LayoutModel",
      "state": {
       "_model_module_version": "~2.0.30",
       "_view_module_version": "~2.0.30"
      }
     },
     "4e436f5cc1a14864af76bbaa2eade4a2": {
      "model_module": "jupyter-js-widgets",
      "model_module_version": "~2.0.30",
      "model_name": "LayoutModel",
      "state": {
       "_model_module_version": "~2.0.30",
       "_view_module_version": "~2.0.30"
      }
     },
     "54962f52a6c7413fb4b2a15ebdb3b9da": {
      "model_module": "jupyter-js-widgets",
      "model_module_version": "~2.0.30",
      "model_name": "OutputModel",
      "state": {
       "_dom_classes": [],
       "_model_module": "jupyter-js-widgets",
       "_model_module_version": "~2.0.30",
       "_view_module": "jupyter-js-widgets",
       "_view_module_version": "~2.0.30",
       "layout": "IPY_MODEL_7e93770882d941b59be092a8e976963d",
       "msg_throttle": 1
      }
     },
     "5a7549b3c82940b5815e64da73be7170": {
      "model_module": "jupyter-js-widgets",
      "model_module_version": "~2.0.30",
      "model_name": "SliderStyleModel",
      "state": {
       "_model_module_version": "~2.0.30",
       "_view_module_version": "~2.0.30"
      }
     },
     "5f68a226073340a78c7f156aa4ae0b99": {
      "model_module": "jupyter-js-widgets",
      "model_module_version": "~2.0.30",
      "model_name": "LayoutModel",
      "state": {
       "_model_module_version": "~2.0.30",
       "_view_module_version": "~2.0.30"
      }
     },
     "63c6a22811b342428b6b049ebb88dcdc": {
      "model_module": "jupyter-js-widgets",
      "model_module_version": "~2.0.30",
      "model_name": "DropdownModel",
      "state": {
       "_model_module_version": "~2.0.30",
       "_options_labels": [
        "Erdős-Rényi",
        "Newman-Watts-Strogatz",
        "power law",
        "lobster"
       ],
       "_view_module_version": "~2.0.30",
       "description": "generator",
       "layout": "IPY_MODEL_24a3848488254d6db6be4a22edf17681",
       "value": "Erdős-Rényi"
      }
     },
     "6721f613b49b4db7ba9402942fbf89c5": {
      "model_module": "jupyter-js-widgets",
      "model_module_version": "~2.0.30",
      "model_name": "VBoxModel",
      "state": {
       "_dom_classes": [
        "widget-interact"
       ],
       "_model_module_version": "~2.0.30",
       "_view_module_version": "~2.0.30",
       "children": [
        "IPY_MODEL_eb3ef11ff43f4ae09b413640190ce838",
        "IPY_MODEL_c530348300444a34b8ce528f9f9d0ffd",
        "IPY_MODEL_c663f8780b634b27a91033af5cc19ba5",
        "IPY_MODEL_4b0e07623c0d4564a7521970cb7ca194",
        "IPY_MODEL_63c6a22811b342428b6b049ebb88dcdc",
        "IPY_MODEL_b163cb68450741feb6dde145befccec7"
       ],
       "layout": "IPY_MODEL_2f1249d0b0894e2498a35b4141f39fef"
      }
     },
     "6c20d284f09b479fa3be0305415ccfa3": {
      "model_module": "jupyter-js-widgets",
      "model_module_version": "~2.0.30",
      "model_name": "DropdownModel",
      "state": {
       "_model_module_version": "~2.0.30",
       "_options_labels": [
        "power law",
        "Erdős-Rényi",
        "Newman-Watts-Strogatz",
        "lobster"
       ],
       "_view_module_version": "~2.0.30",
       "description": "generator",
       "layout": "IPY_MODEL_700b51067c1548a6bc816dbc11df9d7a",
       "value": "power law"
      }
     },
     "700b51067c1548a6bc816dbc11df9d7a": {
      "model_module": "jupyter-js-widgets",
      "model_module_version": "~2.0.30",
      "model_name": "LayoutModel",
      "state": {
       "_model_module_version": "~2.0.30",
       "_view_module_version": "~2.0.30"
      }
     },
     "77f2f26d021541da9df986f2c213981d": {
      "model_module": "jupyter-js-widgets",
      "model_module_version": "~2.0.30",
      "model_name": "IntSliderModel",
      "state": {
       "_model_module_version": "~2.0.30",
       "_view_module_version": "~2.0.30",
       "description": "m",
       "layout": "IPY_MODEL_4b5b2a1f7e2247079a74c63c8936682b",
       "max": 10,
       "min": 1,
       "style": "IPY_MODEL_0b617efcdd064e2da4d96a9f45064540",
       "value": 5
      }
     },
     "7ae80bc10fb14c39bdefa9824ca39c15": {
      "model_module": "jupyter-js-widgets",
      "model_module_version": "~2.0.30",
      "model_name": "SliderStyleModel",
      "state": {
       "_model_module_version": "~2.0.30",
       "_view_module_version": "~2.0.30"
      }
     },
     "7e93770882d941b59be092a8e976963d": {
      "model_module": "jupyter-js-widgets",
      "model_module_version": "~2.0.30",
      "model_name": "LayoutModel",
      "state": {
       "_model_module_version": "~2.0.30",
       "_view_module_version": "~2.0.30"
      }
     },
     "852d21322b294751a23e7e523c0d48d5": {
      "model_module": "jupyter-js-widgets",
      "model_module_version": "~2.0.30",
      "model_name": "LayoutModel",
      "state": {
       "_model_module_version": "~2.0.30",
       "_view_module_version": "~2.0.30"
      }
     },
     "b163cb68450741feb6dde145befccec7": {
      "model_module": "jupyter-js-widgets",
      "model_module_version": "~2.0.30",
      "model_name": "OutputModel",
      "state": {
       "_dom_classes": [],
       "_model_module": "jupyter-js-widgets",
       "_model_module_version": "~2.0.30",
       "_view_module": "jupyter-js-widgets",
       "_view_module_version": "~2.0.30",
       "layout": "IPY_MODEL_c5362f6610704dbc8da01845afb1b422",
       "msg_throttle": 1
      }
     },
     "c0aacc27541c4b789bddea4cdd0697c5": {
      "model_module": "jupyter-js-widgets",
      "model_module_version": "~2.0.30",
      "model_name": "SliderStyleModel",
      "state": {
       "_model_module_version": "~2.0.30",
       "_view_module_version": "~2.0.30"
      }
     },
     "c530348300444a34b8ce528f9f9d0ffd": {
      "model_module": "jupyter-js-widgets",
      "model_module_version": "~2.0.30",
      "model_name": "IntSliderModel",
      "state": {
       "_model_module_version": "~2.0.30",
       "_view_module_version": "~2.0.30",
       "description": "m",
       "layout": "IPY_MODEL_46235e0174e3460da972fca74df318f9",
       "max": 10,
       "min": 1,
       "style": "IPY_MODEL_201fea37eff843a5b944c4865290cb0e",
       "value": 5
      }
     },
     "c5362f6610704dbc8da01845afb1b422": {
      "model_module": "jupyter-js-widgets",
      "model_module_version": "~2.0.30",
      "model_name": "LayoutModel",
      "state": {
       "_model_module_version": "~2.0.30",
       "_view_module_version": "~2.0.30"
      }
     },
     "c663f8780b634b27a91033af5cc19ba5": {
      "model_module": "jupyter-js-widgets",
      "model_module_version": "~2.0.30",
      "model_name": "IntSliderModel",
      "state": {
       "_model_module_version": "~2.0.30",
       "_view_module_version": "~2.0.30",
       "description": "k",
       "layout": "IPY_MODEL_5f68a226073340a78c7f156aa4ae0b99",
       "max": 10,
       "min": 1,
       "style": "IPY_MODEL_c0aacc27541c4b789bddea4cdd0697c5",
       "value": 5
      }
     },
     "cb41685e49c24656aeb18a445e6815dc": {
      "model_module": "jupyter-js-widgets",
      "model_module_version": "~2.0.30",
      "model_name": "VBoxModel",
      "state": {
       "_dom_classes": [
        "widget-interact"
       ],
       "_model_module_version": "~2.0.30",
       "_view_module_version": "~2.0.30",
       "children": [
        "IPY_MODEL_05e9df686fa24096aab0339021607a90",
        "IPY_MODEL_77f2f26d021541da9df986f2c213981d",
        "IPY_MODEL_e60e3bb8993645d597bf0930a214c13b",
        "IPY_MODEL_e3e512e160b5403e89d9a2b3cd38f035",
        "IPY_MODEL_6c20d284f09b479fa3be0305415ccfa3",
        "IPY_MODEL_54962f52a6c7413fb4b2a15ebdb3b9da"
       ],
       "layout": "IPY_MODEL_05daba90ab5644d19adebac742b4eb03"
      }
     },
     "e3e512e160b5403e89d9a2b3cd38f035": {
      "model_module": "jupyter-js-widgets",
      "model_module_version": "~2.0.30",
      "model_name": "FloatSliderModel",
      "state": {
       "_model_module_version": "~2.0.30",
       "_view_module_version": "~2.0.30",
       "description": "p",
       "layout": "IPY_MODEL_852d21322b294751a23e7e523c0d48d5",
       "max": 1,
       "step": 0.001,
       "value": 0.5
      }
     },
     "e60e3bb8993645d597bf0930a214c13b": {
      "model_module": "jupyter-js-widgets",
      "model_module_version": "~2.0.30",
      "model_name": "IntSliderModel",
      "state": {
       "_model_module_version": "~2.0.30",
       "_view_module_version": "~2.0.30",
       "description": "k",
       "layout": "IPY_MODEL_4b68cce3215145e689f9ce488a6b5513",
       "max": 10,
       "min": 1,
       "style": "IPY_MODEL_5a7549b3c82940b5815e64da73be7170",
       "value": 5
      }
     },
     "eb3ef11ff43f4ae09b413640190ce838": {
      "model_module": "jupyter-js-widgets",
      "model_module_version": "~2.0.30",
      "model_name": "IntSliderModel",
      "state": {
       "_model_module_version": "~2.0.30",
       "_view_module_version": "~2.0.30",
       "description": "n",
       "layout": "IPY_MODEL_0129f5a2a6584a7593bf7b17ce9c7a44",
       "max": 30,
       "min": 2,
       "style": "IPY_MODEL_32afb1095086467f8602b81155fe00f1",
       "value": 16
      }
     }
    },
    "version_major": 1,
    "version_minor": 0
   }
  }
 },
 "nbformat": 4,
 "nbformat_minor": 1
}
